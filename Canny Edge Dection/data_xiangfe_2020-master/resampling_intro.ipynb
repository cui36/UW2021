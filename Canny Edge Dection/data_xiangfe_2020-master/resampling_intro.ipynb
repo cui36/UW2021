{
 "cells": [
  {
   "cell_type": "code",
   "execution_count": 3,
   "metadata": {},
   "outputs": [],
   "source": [
    "import random\n",
    "import numpy as np"
   ]
  },
  {
   "cell_type": "code",
   "execution_count": 4,
   "metadata": {},
   "outputs": [
    {
     "name": "stdout",
     "output_type": "stream",
     "text": [
      "/Users/cuixingqi/py3/bin/python3\n"
     ]
    }
   ],
   "source": [
    "import sys\n",
    "print(sys.executable)"
   ]
  },
  {
   "cell_type": "code",
   "execution_count": 5,
   "metadata": {},
   "outputs": [],
   "source": [
    "from bokeh.io import show\n",
    "from bokeh.plotting import figure\n",
    "from bokeh.io import output_notebook\n",
    "from bokeh.layouts import gridplot"
   ]
  },
  {
   "cell_type": "code",
   "execution_count": 6,
   "metadata": {},
   "outputs": [
    {
     "data": {
      "text/html": [
       "\n",
       "    <div class=\"bk-root\">\n",
       "        <a href=\"https://bokeh.org\" target=\"_blank\" class=\"bk-logo bk-logo-small bk-logo-notebook\"></a>\n",
       "        <span id=\"1002\">Loading BokehJS ...</span>\n",
       "    </div>"
      ]
     },
     "metadata": {},
     "output_type": "display_data"
    },
    {
     "data": {
      "application/javascript": [
       "\n",
       "(function(root) {\n",
       "  function now() {\n",
       "    return new Date();\n",
       "  }\n",
       "\n",
       "  var force = true;\n",
       "\n",
       "  if (typeof root._bokeh_onload_callbacks === \"undefined\" || force === true) {\n",
       "    root._bokeh_onload_callbacks = [];\n",
       "    root._bokeh_is_loading = undefined;\n",
       "  }\n",
       "\n",
       "  var JS_MIME_TYPE = 'application/javascript';\n",
       "  var HTML_MIME_TYPE = 'text/html';\n",
       "  var EXEC_MIME_TYPE = 'application/vnd.bokehjs_exec.v0+json';\n",
       "  var CLASS_NAME = 'output_bokeh rendered_html';\n",
       "\n",
       "  /**\n",
       "   * Render data to the DOM node\n",
       "   */\n",
       "  function render(props, node) {\n",
       "    var script = document.createElement(\"script\");\n",
       "    node.appendChild(script);\n",
       "  }\n",
       "\n",
       "  /**\n",
       "   * Handle when an output is cleared or removed\n",
       "   */\n",
       "  function handleClearOutput(event, handle) {\n",
       "    var cell = handle.cell;\n",
       "\n",
       "    var id = cell.output_area._bokeh_element_id;\n",
       "    var server_id = cell.output_area._bokeh_server_id;\n",
       "    // Clean up Bokeh references\n",
       "    if (id != null && id in Bokeh.index) {\n",
       "      Bokeh.index[id].model.document.clear();\n",
       "      delete Bokeh.index[id];\n",
       "    }\n",
       "\n",
       "    if (server_id !== undefined) {\n",
       "      // Clean up Bokeh references\n",
       "      var cmd = \"from bokeh.io.state import curstate; print(curstate().uuid_to_server['\" + server_id + \"'].get_sessions()[0].document.roots[0]._id)\";\n",
       "      cell.notebook.kernel.execute(cmd, {\n",
       "        iopub: {\n",
       "          output: function(msg) {\n",
       "            var id = msg.content.text.trim();\n",
       "            if (id in Bokeh.index) {\n",
       "              Bokeh.index[id].model.document.clear();\n",
       "              delete Bokeh.index[id];\n",
       "            }\n",
       "          }\n",
       "        }\n",
       "      });\n",
       "      // Destroy server and session\n",
       "      var cmd = \"import bokeh.io.notebook as ion; ion.destroy_server('\" + server_id + \"')\";\n",
       "      cell.notebook.kernel.execute(cmd);\n",
       "    }\n",
       "  }\n",
       "\n",
       "  /**\n",
       "   * Handle when a new output is added\n",
       "   */\n",
       "  function handleAddOutput(event, handle) {\n",
       "    var output_area = handle.output_area;\n",
       "    var output = handle.output;\n",
       "\n",
       "    // limit handleAddOutput to display_data with EXEC_MIME_TYPE content only\n",
       "    if ((output.output_type != \"display_data\") || (!Object.prototype.hasOwnProperty.call(output.data, EXEC_MIME_TYPE))) {\n",
       "      return\n",
       "    }\n",
       "\n",
       "    var toinsert = output_area.element.find(\".\" + CLASS_NAME.split(' ')[0]);\n",
       "\n",
       "    if (output.metadata[EXEC_MIME_TYPE][\"id\"] !== undefined) {\n",
       "      toinsert[toinsert.length - 1].firstChild.textContent = output.data[JS_MIME_TYPE];\n",
       "      // store reference to embed id on output_area\n",
       "      output_area._bokeh_element_id = output.metadata[EXEC_MIME_TYPE][\"id\"];\n",
       "    }\n",
       "    if (output.metadata[EXEC_MIME_TYPE][\"server_id\"] !== undefined) {\n",
       "      var bk_div = document.createElement(\"div\");\n",
       "      bk_div.innerHTML = output.data[HTML_MIME_TYPE];\n",
       "      var script_attrs = bk_div.children[0].attributes;\n",
       "      for (var i = 0; i < script_attrs.length; i++) {\n",
       "        toinsert[toinsert.length - 1].firstChild.setAttribute(script_attrs[i].name, script_attrs[i].value);\n",
       "        toinsert[toinsert.length - 1].firstChild.textContent = bk_div.children[0].textContent\n",
       "      }\n",
       "      // store reference to server id on output_area\n",
       "      output_area._bokeh_server_id = output.metadata[EXEC_MIME_TYPE][\"server_id\"];\n",
       "    }\n",
       "  }\n",
       "\n",
       "  function register_renderer(events, OutputArea) {\n",
       "\n",
       "    function append_mime(data, metadata, element) {\n",
       "      // create a DOM node to render to\n",
       "      var toinsert = this.create_output_subarea(\n",
       "        metadata,\n",
       "        CLASS_NAME,\n",
       "        EXEC_MIME_TYPE\n",
       "      );\n",
       "      this.keyboard_manager.register_events(toinsert);\n",
       "      // Render to node\n",
       "      var props = {data: data, metadata: metadata[EXEC_MIME_TYPE]};\n",
       "      render(props, toinsert[toinsert.length - 1]);\n",
       "      element.append(toinsert);\n",
       "      return toinsert\n",
       "    }\n",
       "\n",
       "    /* Handle when an output is cleared or removed */\n",
       "    events.on('clear_output.CodeCell', handleClearOutput);\n",
       "    events.on('delete.Cell', handleClearOutput);\n",
       "\n",
       "    /* Handle when a new output is added */\n",
       "    events.on('output_added.OutputArea', handleAddOutput);\n",
       "\n",
       "    /**\n",
       "     * Register the mime type and append_mime function with output_area\n",
       "     */\n",
       "    OutputArea.prototype.register_mime_type(EXEC_MIME_TYPE, append_mime, {\n",
       "      /* Is output safe? */\n",
       "      safe: true,\n",
       "      /* Index of renderer in `output_area.display_order` */\n",
       "      index: 0\n",
       "    });\n",
       "  }\n",
       "\n",
       "  // register the mime type if in Jupyter Notebook environment and previously unregistered\n",
       "  if (root.Jupyter !== undefined) {\n",
       "    var events = require('base/js/events');\n",
       "    var OutputArea = require('notebook/js/outputarea').OutputArea;\n",
       "\n",
       "    if (OutputArea.prototype.mime_types().indexOf(EXEC_MIME_TYPE) == -1) {\n",
       "      register_renderer(events, OutputArea);\n",
       "    }\n",
       "  }\n",
       "\n",
       "  \n",
       "  if (typeof (root._bokeh_timeout) === \"undefined\" || force === true) {\n",
       "    root._bokeh_timeout = Date.now() + 5000;\n",
       "    root._bokeh_failed_load = false;\n",
       "  }\n",
       "\n",
       "  var NB_LOAD_WARNING = {'data': {'text/html':\n",
       "     \"<div style='background-color: #fdd'>\\n\"+\n",
       "     \"<p>\\n\"+\n",
       "     \"BokehJS does not appear to have successfully loaded. If loading BokehJS from CDN, this \\n\"+\n",
       "     \"may be due to a slow or bad network connection. Possible fixes:\\n\"+\n",
       "     \"</p>\\n\"+\n",
       "     \"<ul>\\n\"+\n",
       "     \"<li>re-rerun `output_notebook()` to attempt to load from CDN again, or</li>\\n\"+\n",
       "     \"<li>use INLINE resources instead, as so:</li>\\n\"+\n",
       "     \"</ul>\\n\"+\n",
       "     \"<code>\\n\"+\n",
       "     \"from bokeh.resources import INLINE\\n\"+\n",
       "     \"output_notebook(resources=INLINE)\\n\"+\n",
       "     \"</code>\\n\"+\n",
       "     \"</div>\"}};\n",
       "\n",
       "  function display_loaded() {\n",
       "    var el = document.getElementById(\"1002\");\n",
       "    if (el != null) {\n",
       "      el.textContent = \"BokehJS is loading...\";\n",
       "    }\n",
       "    if (root.Bokeh !== undefined) {\n",
       "      if (el != null) {\n",
       "        el.textContent = \"BokehJS \" + root.Bokeh.version + \" successfully loaded.\";\n",
       "      }\n",
       "    } else if (Date.now() < root._bokeh_timeout) {\n",
       "      setTimeout(display_loaded, 100)\n",
       "    }\n",
       "  }\n",
       "\n",
       "\n",
       "  function run_callbacks() {\n",
       "    try {\n",
       "      root._bokeh_onload_callbacks.forEach(function(callback) {\n",
       "        if (callback != null)\n",
       "          callback();\n",
       "      });\n",
       "    } finally {\n",
       "      delete root._bokeh_onload_callbacks\n",
       "    }\n",
       "    console.debug(\"Bokeh: all callbacks have finished\");\n",
       "  }\n",
       "\n",
       "  function load_libs(css_urls, js_urls, callback) {\n",
       "    if (css_urls == null) css_urls = [];\n",
       "    if (js_urls == null) js_urls = [];\n",
       "\n",
       "    root._bokeh_onload_callbacks.push(callback);\n",
       "    if (root._bokeh_is_loading > 0) {\n",
       "      console.debug(\"Bokeh: BokehJS is being loaded, scheduling callback at\", now());\n",
       "      return null;\n",
       "    }\n",
       "    if (js_urls == null || js_urls.length === 0) {\n",
       "      run_callbacks();\n",
       "      return null;\n",
       "    }\n",
       "    console.debug(\"Bokeh: BokehJS not loaded, scheduling load and callback at\", now());\n",
       "    root._bokeh_is_loading = css_urls.length + js_urls.length;\n",
       "\n",
       "    function on_load() {\n",
       "      root._bokeh_is_loading--;\n",
       "      if (root._bokeh_is_loading === 0) {\n",
       "        console.debug(\"Bokeh: all BokehJS libraries/stylesheets loaded\");\n",
       "        run_callbacks()\n",
       "      }\n",
       "    }\n",
       "\n",
       "    function on_error(url) {\n",
       "      console.error(\"failed to load \" + url);\n",
       "    }\n",
       "\n",
       "    for (let i = 0; i < css_urls.length; i++) {\n",
       "      const url = css_urls[i];\n",
       "      const element = document.createElement(\"link\");\n",
       "      element.onload = on_load;\n",
       "      element.onerror = on_error.bind(null, url);\n",
       "      element.rel = \"stylesheet\";\n",
       "      element.type = \"text/css\";\n",
       "      element.href = url;\n",
       "      console.debug(\"Bokeh: injecting link tag for BokehJS stylesheet: \", url);\n",
       "      document.body.appendChild(element);\n",
       "    }\n",
       "\n",
       "    const hashes = {\"https://cdn.bokeh.org/bokeh/release/bokeh-2.3.3.min.js\": \"dM3QQsP+wXdHg42wTqW85BjZQdLNNIXqlPw/BgKoExPmTG7ZLML4EGqLMfqHT6ON\", \"https://cdn.bokeh.org/bokeh/release/bokeh-tables-2.3.3.min.js\": \"8x57I4YuIfu8XyZfFo0XVr2WAT8EK4rh/uDe3wF7YuW2FNUSNEpJbsPaB1nJ2fz2\", \"https://cdn.bokeh.org/bokeh/release/bokeh-widgets-2.3.3.min.js\": \"3QTqdz9LyAm2i0sG5XTePsHec3UHWwVsrOL68SYRoAXsafvfAyqtQ+h440+qIBhS\"};\n",
       "\n",
       "    for (let i = 0; i < js_urls.length; i++) {\n",
       "      const url = js_urls[i];\n",
       "      const element = document.createElement('script');\n",
       "      element.onload = on_load;\n",
       "      element.onerror = on_error.bind(null, url);\n",
       "      element.async = false;\n",
       "      element.src = url;\n",
       "      if (url in hashes) {\n",
       "        element.crossOrigin = \"anonymous\";\n",
       "        element.integrity = \"sha384-\" + hashes[url];\n",
       "      }\n",
       "      console.debug(\"Bokeh: injecting script tag for BokehJS library: \", url);\n",
       "      document.head.appendChild(element);\n",
       "    }\n",
       "  };\n",
       "\n",
       "  function inject_raw_css(css) {\n",
       "    const element = document.createElement(\"style\");\n",
       "    element.appendChild(document.createTextNode(css));\n",
       "    document.body.appendChild(element);\n",
       "  }\n",
       "\n",
       "  \n",
       "  var js_urls = [\"https://cdn.bokeh.org/bokeh/release/bokeh-2.3.3.min.js\", \"https://cdn.bokeh.org/bokeh/release/bokeh-widgets-2.3.3.min.js\", \"https://cdn.bokeh.org/bokeh/release/bokeh-tables-2.3.3.min.js\"];\n",
       "  var css_urls = [];\n",
       "  \n",
       "\n",
       "  var inline_js = [\n",
       "    function(Bokeh) {\n",
       "      Bokeh.set_log_level(\"info\");\n",
       "    },\n",
       "    function(Bokeh) {\n",
       "    \n",
       "    \n",
       "    }\n",
       "  ];\n",
       "\n",
       "  function run_inline_js() {\n",
       "    \n",
       "    if (root.Bokeh !== undefined || force === true) {\n",
       "      \n",
       "    for (var i = 0; i < inline_js.length; i++) {\n",
       "      inline_js[i].call(root, root.Bokeh);\n",
       "    }\n",
       "    if (force === true) {\n",
       "        display_loaded();\n",
       "      }} else if (Date.now() < root._bokeh_timeout) {\n",
       "      setTimeout(run_inline_js, 100);\n",
       "    } else if (!root._bokeh_failed_load) {\n",
       "      console.log(\"Bokeh: BokehJS failed to load within specified timeout.\");\n",
       "      root._bokeh_failed_load = true;\n",
       "    } else if (force !== true) {\n",
       "      var cell = $(document.getElementById(\"1002\")).parents('.cell').data().cell;\n",
       "      cell.output_area.append_execute_result(NB_LOAD_WARNING)\n",
       "    }\n",
       "\n",
       "  }\n",
       "\n",
       "  if (root._bokeh_is_loading === 0) {\n",
       "    console.debug(\"Bokeh: BokehJS loaded, going straight to plotting\");\n",
       "    run_inline_js();\n",
       "  } else {\n",
       "    load_libs(css_urls, js_urls, function() {\n",
       "      console.debug(\"Bokeh: BokehJS plotting callback run at\", now());\n",
       "      run_inline_js();\n",
       "    });\n",
       "  }\n",
       "}(window));"
      ],
      "application/vnd.bokehjs_load.v0+json": "\n(function(root) {\n  function now() {\n    return new Date();\n  }\n\n  var force = true;\n\n  if (typeof root._bokeh_onload_callbacks === \"undefined\" || force === true) {\n    root._bokeh_onload_callbacks = [];\n    root._bokeh_is_loading = undefined;\n  }\n\n  \n\n  \n  if (typeof (root._bokeh_timeout) === \"undefined\" || force === true) {\n    root._bokeh_timeout = Date.now() + 5000;\n    root._bokeh_failed_load = false;\n  }\n\n  var NB_LOAD_WARNING = {'data': {'text/html':\n     \"<div style='background-color: #fdd'>\\n\"+\n     \"<p>\\n\"+\n     \"BokehJS does not appear to have successfully loaded. If loading BokehJS from CDN, this \\n\"+\n     \"may be due to a slow or bad network connection. Possible fixes:\\n\"+\n     \"</p>\\n\"+\n     \"<ul>\\n\"+\n     \"<li>re-rerun `output_notebook()` to attempt to load from CDN again, or</li>\\n\"+\n     \"<li>use INLINE resources instead, as so:</li>\\n\"+\n     \"</ul>\\n\"+\n     \"<code>\\n\"+\n     \"from bokeh.resources import INLINE\\n\"+\n     \"output_notebook(resources=INLINE)\\n\"+\n     \"</code>\\n\"+\n     \"</div>\"}};\n\n  function display_loaded() {\n    var el = document.getElementById(\"1002\");\n    if (el != null) {\n      el.textContent = \"BokehJS is loading...\";\n    }\n    if (root.Bokeh !== undefined) {\n      if (el != null) {\n        el.textContent = \"BokehJS \" + root.Bokeh.version + \" successfully loaded.\";\n      }\n    } else if (Date.now() < root._bokeh_timeout) {\n      setTimeout(display_loaded, 100)\n    }\n  }\n\n\n  function run_callbacks() {\n    try {\n      root._bokeh_onload_callbacks.forEach(function(callback) {\n        if (callback != null)\n          callback();\n      });\n    } finally {\n      delete root._bokeh_onload_callbacks\n    }\n    console.debug(\"Bokeh: all callbacks have finished\");\n  }\n\n  function load_libs(css_urls, js_urls, callback) {\n    if (css_urls == null) css_urls = [];\n    if (js_urls == null) js_urls = [];\n\n    root._bokeh_onload_callbacks.push(callback);\n    if (root._bokeh_is_loading > 0) {\n      console.debug(\"Bokeh: BokehJS is being loaded, scheduling callback at\", now());\n      return null;\n    }\n    if (js_urls == null || js_urls.length === 0) {\n      run_callbacks();\n      return null;\n    }\n    console.debug(\"Bokeh: BokehJS not loaded, scheduling load and callback at\", now());\n    root._bokeh_is_loading = css_urls.length + js_urls.length;\n\n    function on_load() {\n      root._bokeh_is_loading--;\n      if (root._bokeh_is_loading === 0) {\n        console.debug(\"Bokeh: all BokehJS libraries/stylesheets loaded\");\n        run_callbacks()\n      }\n    }\n\n    function on_error(url) {\n      console.error(\"failed to load \" + url);\n    }\n\n    for (let i = 0; i < css_urls.length; i++) {\n      const url = css_urls[i];\n      const element = document.createElement(\"link\");\n      element.onload = on_load;\n      element.onerror = on_error.bind(null, url);\n      element.rel = \"stylesheet\";\n      element.type = \"text/css\";\n      element.href = url;\n      console.debug(\"Bokeh: injecting link tag for BokehJS stylesheet: \", url);\n      document.body.appendChild(element);\n    }\n\n    const hashes = {\"https://cdn.bokeh.org/bokeh/release/bokeh-2.3.3.min.js\": \"dM3QQsP+wXdHg42wTqW85BjZQdLNNIXqlPw/BgKoExPmTG7ZLML4EGqLMfqHT6ON\", \"https://cdn.bokeh.org/bokeh/release/bokeh-tables-2.3.3.min.js\": \"8x57I4YuIfu8XyZfFo0XVr2WAT8EK4rh/uDe3wF7YuW2FNUSNEpJbsPaB1nJ2fz2\", \"https://cdn.bokeh.org/bokeh/release/bokeh-widgets-2.3.3.min.js\": \"3QTqdz9LyAm2i0sG5XTePsHec3UHWwVsrOL68SYRoAXsafvfAyqtQ+h440+qIBhS\"};\n\n    for (let i = 0; i < js_urls.length; i++) {\n      const url = js_urls[i];\n      const element = document.createElement('script');\n      element.onload = on_load;\n      element.onerror = on_error.bind(null, url);\n      element.async = false;\n      element.src = url;\n      if (url in hashes) {\n        element.crossOrigin = \"anonymous\";\n        element.integrity = \"sha384-\" + hashes[url];\n      }\n      console.debug(\"Bokeh: injecting script tag for BokehJS library: \", url);\n      document.head.appendChild(element);\n    }\n  };\n\n  function inject_raw_css(css) {\n    const element = document.createElement(\"style\");\n    element.appendChild(document.createTextNode(css));\n    document.body.appendChild(element);\n  }\n\n  \n  var js_urls = [\"https://cdn.bokeh.org/bokeh/release/bokeh-2.3.3.min.js\", \"https://cdn.bokeh.org/bokeh/release/bokeh-widgets-2.3.3.min.js\", \"https://cdn.bokeh.org/bokeh/release/bokeh-tables-2.3.3.min.js\"];\n  var css_urls = [];\n  \n\n  var inline_js = [\n    function(Bokeh) {\n      Bokeh.set_log_level(\"info\");\n    },\n    function(Bokeh) {\n    \n    \n    }\n  ];\n\n  function run_inline_js() {\n    \n    if (root.Bokeh !== undefined || force === true) {\n      \n    for (var i = 0; i < inline_js.length; i++) {\n      inline_js[i].call(root, root.Bokeh);\n    }\n    if (force === true) {\n        display_loaded();\n      }} else if (Date.now() < root._bokeh_timeout) {\n      setTimeout(run_inline_js, 100);\n    } else if (!root._bokeh_failed_load) {\n      console.log(\"Bokeh: BokehJS failed to load within specified timeout.\");\n      root._bokeh_failed_load = true;\n    } else if (force !== true) {\n      var cell = $(document.getElementById(\"1002\")).parents('.cell').data().cell;\n      cell.output_area.append_execute_result(NB_LOAD_WARNING)\n    }\n\n  }\n\n  if (root._bokeh_is_loading === 0) {\n    console.debug(\"Bokeh: BokehJS loaded, going straight to plotting\");\n    run_inline_js();\n  } else {\n    load_libs(css_urls, js_urls, function() {\n      console.debug(\"Bokeh: BokehJS plotting callback run at\", now());\n      run_inline_js();\n    });\n  }\n}(window));"
     },
     "metadata": {},
     "output_type": "display_data"
    }
   ],
   "source": [
    "output_notebook()"
   ]
  },
  {
   "cell_type": "markdown",
   "metadata": {},
   "source": [
    "## Intro to Bootstrapping, or Resampling\n",
    "### goals:\n",
    "* Understand the difference between population and samples\n",
    "* understand how to reample with Python\n",
    "* understand how to quantify the differences \n",
    "* understand the null hypothesis\n",
    "* understand a p value\n",
    "* understand how to tell the difference between noise (randomness) and signal"
   ]
  },
  {
   "cell_type": "markdown",
   "metadata": {},
   "source": [
    "Often, in big data, we are asked to tell the difference between two samples. Was there really more rain in 2018 than in 2019? Was the temperature hotter in these two years? Did more people ride bikes in Boston than in Seattle? \n",
    "\n",
    "There is a mathmatical way in big data where we can answer these questions. "
   ]
  },
  {
   "cell_type": "markdown",
   "metadata": {},
   "source": [
    "### Experiment\n",
    "Imagine a small town, Willow. There is a single school with two classrooms. Class A has all students with freckles, Class B has students with no freckles. \n",
    "\n",
    "Answer the following:\n",
    "Do you expect a difference in height between the students in the classroom? Why? \n",
    "\n",
    "#### Answer\n",
    "No, you woud not expect any difference in heights because freckles does not determine height\n",
    "\n",
    "A scientist believes students with freckles are taller than students without freckles. Let's determine if he is right.\n",
    "\n"
   ]
  },
  {
   "cell_type": "code",
   "execution_count": 7,
   "metadata": {},
   "outputs": [],
   "source": [
    "def get_classroom_willow_a():\n",
    "    return [146.1,152.7, 146.3, 142.0, 151.8,\n",
    "     151.4, 145.1, 153.5, 151.2, 143.5, 158.2,\n",
    "     150.6, 143.5, 151.6, 149.9, 154.2, 142.4,\n",
    "     154.6, 154.1, 152.8, 152.4, 155.9, 152.9,\n",
    "     149.9, 145.0]\n"
   ]
  },
  {
   "cell_type": "code",
   "execution_count": 8,
   "metadata": {},
   "outputs": [],
   "source": [
    "def get_classroom_willow_b():\n",
    "    return [142.9, 150.9, 154.0, 146.4, 142.4,\n",
    "     148.7, 151.4, 154.5, 142.9, 142.5, 152.5,\n",
    "     151.4, 156.7, 153.9, 148.5, 147.6, 161.9,\n",
    "     147.6, 145.1, 143.3, 149.5, 147.3,\n",
    "     148.7, 150.4]"
   ]
  },
  {
   "cell_type": "markdown",
   "metadata": {},
   "source": [
    "The above functions has the heights for the students in each classroom. Lets graph the 2 classrooms."
   ]
  },
  {
   "cell_type": "code",
   "execution_count": 9,
   "metadata": {},
   "outputs": [],
   "source": [
    "WILLOW_A = get_classroom_willow_a()\n",
    "WILLOW_B = get_classroom_willow_b()\n"
   ]
  },
  {
   "cell_type": "code",
   "execution_count": 10,
   "metadata": {},
   "outputs": [
    {
     "data": {
      "text/html": [
       "\n",
       "\n",
       "\n",
       "\n",
       "\n",
       "\n",
       "  <div class=\"bk-root\" id=\"f349b37c-5d4d-4e97-af7f-4c035b550256\" data-root-id=\"1104\"></div>\n"
      ]
     },
     "metadata": {},
     "output_type": "display_data"
    },
    {
     "data": {
      "application/javascript": [
       "(function(root) {\n",
       "  function embed_document(root) {\n",
       "    \n",
       "  var docs_json = {\"a41fcc03-963f-435a-9ee1-8792432ec5c9\":{\"defs\":[],\"roots\":{\"references\":[{\"attributes\":{\"children\":[{\"id\":\"1103\"},{\"id\":\"1101\"}]},\"id\":\"1104\",\"type\":\"Column\"},{\"attributes\":{},\"id\":\"1012\",\"type\":\"LinearScale\"},{\"attributes\":{},\"id\":\"1097\",\"type\":\"UnionRenderers\"},{\"attributes\":{\"data_source\":{\"id\":\"1036\"},\"glyph\":{\"id\":\"1037\"},\"hover_glyph\":null,\"muted_glyph\":null,\"nonselection_glyph\":{\"id\":\"1038\"},\"view\":{\"id\":\"1040\"}},\"id\":\"1039\",\"type\":\"GlyphRenderer\"},{\"attributes\":{\"end\":160,\"start\":120},\"id\":\"1008\",\"type\":\"Range1d\"},{\"attributes\":{},\"id\":\"1063\",\"type\":\"SaveTool\"},{\"attributes\":{},\"id\":\"1098\",\"type\":\"Selection\"},{\"attributes\":{\"fill_color\":{\"value\":\"#1f77b4\"},\"line_color\":{\"value\":\"#1f77b4\"},\"top\":{\"field\":\"top\"},\"width\":{\"value\":0.9},\"x\":{\"field\":\"x\"}},\"id\":\"1037\",\"type\":\"VBar\"},{\"attributes\":{\"text\":\"No Freckles\"},\"id\":\"1042\",\"type\":\"Title\"},{\"attributes\":{},\"id\":\"1064\",\"type\":\"ResetTool\"},{\"attributes\":{\"toolbar\":{\"id\":\"1102\"},\"toolbar_location\":\"above\"},\"id\":\"1103\",\"type\":\"ToolbarBox\"},{\"attributes\":{\"toolbars\":[{\"id\":\"1029\"},{\"id\":\"1067\"}],\"tools\":[{\"id\":\"1022\"},{\"id\":\"1023\"},{\"id\":\"1024\"},{\"id\":\"1025\"},{\"id\":\"1026\"},{\"id\":\"1027\"},{\"id\":\"1060\"},{\"id\":\"1061\"},{\"id\":\"1062\"},{\"id\":\"1063\"},{\"id\":\"1064\"},{\"id\":\"1065\"}]},\"id\":\"1102\",\"type\":\"ProxyToolbar\"},{\"attributes\":{},\"id\":\"1065\",\"type\":\"HelpTool\"},{\"attributes\":{},\"id\":\"1044\",\"type\":\"DataRange1d\"},{\"attributes\":{},\"id\":\"1081\",\"type\":\"AllLabels\"},{\"attributes\":{\"below\":[{\"id\":\"1014\"}],\"center\":[{\"id\":\"1017\"},{\"id\":\"1021\"}],\"height\":350,\"left\":[{\"id\":\"1018\"}],\"renderers\":[{\"id\":\"1039\"}],\"title\":{\"id\":\"1004\"},\"toolbar\":{\"id\":\"1029\"},\"toolbar_location\":null,\"width\":350,\"x_range\":{\"id\":\"1006\"},\"x_scale\":{\"id\":\"1010\"},\"y_range\":{\"id\":\"1008\"},\"y_scale\":{\"id\":\"1012\"}},\"id\":\"1003\",\"subtype\":\"Figure\",\"type\":\"Plot\"},{\"attributes\":{\"active_multi\":null,\"tools\":[{\"id\":\"1060\"},{\"id\":\"1061\"},{\"id\":\"1062\"},{\"id\":\"1063\"},{\"id\":\"1064\"},{\"id\":\"1065\"}]},\"id\":\"1067\",\"type\":\"Toolbar\"},{\"attributes\":{\"end\":160,\"start\":120},\"id\":\"1046\",\"type\":\"Range1d\"},{\"attributes\":{\"below\":[{\"id\":\"1052\"}],\"center\":[{\"id\":\"1055\"},{\"id\":\"1059\"}],\"height\":350,\"left\":[{\"id\":\"1056\"}],\"renderers\":[{\"id\":\"1077\"}],\"title\":{\"id\":\"1042\"},\"toolbar\":{\"id\":\"1067\"},\"toolbar_location\":null,\"width\":350,\"x_range\":{\"id\":\"1044\"},\"x_scale\":{\"id\":\"1048\"},\"y_range\":{\"id\":\"1046\"},\"y_scale\":{\"id\":\"1050\"}},\"id\":\"1041\",\"subtype\":\"Figure\",\"type\":\"Plot\"},{\"attributes\":{\"bottom_units\":\"screen\",\"fill_alpha\":0.5,\"fill_color\":\"lightgrey\",\"left_units\":\"screen\",\"level\":\"overlay\",\"line_alpha\":1.0,\"line_color\":\"black\",\"line_dash\":[4,4],\"line_width\":2,\"right_units\":\"screen\",\"syncable\":false,\"top_units\":\"screen\"},\"id\":\"1066\",\"type\":\"BoxAnnotation\"},{\"attributes\":{},\"id\":\"1010\",\"type\":\"LinearScale\"},{\"attributes\":{},\"id\":\"1048\",\"type\":\"LinearScale\"},{\"attributes\":{\"data_source\":{\"id\":\"1074\"},\"glyph\":{\"id\":\"1075\"},\"hover_glyph\":null,\"muted_glyph\":null,\"nonselection_glyph\":{\"id\":\"1076\"},\"view\":{\"id\":\"1078\"}},\"id\":\"1077\",\"type\":\"GlyphRenderer\"},{\"attributes\":{\"text\":\"Freckles\"},\"id\":\"1004\",\"type\":\"Title\"},{\"attributes\":{},\"id\":\"1050\",\"type\":\"LinearScale\"},{\"attributes\":{\"source\":{\"id\":\"1074\"}},\"id\":\"1078\",\"type\":\"CDSView\"},{\"attributes\":{},\"id\":\"1022\",\"type\":\"PanTool\"},{\"attributes\":{\"formatter\":{\"id\":\"1094\"},\"major_label_policy\":{\"id\":\"1095\"},\"ticker\":{\"id\":\"1053\"}},\"id\":\"1052\",\"type\":\"LinearAxis\"},{\"attributes\":{\"data\":{\"top\":[142.0,142.4,143.5,143.5,145.0,145.1,146.1,146.3,149.9,149.9,150.6,151.2,151.4,151.6,151.8,152.4,152.7,152.8,152.9,153.5,154.1,154.2,154.6,155.9,158.2],\"x\":[0,1,2,3,4,5,6,7,8,9,10,11,12,13,14,15,16,17,18,19,20,21,22,23,24]},\"selected\":{\"id\":\"1087\"},\"selection_policy\":{\"id\":\"1086\"}},\"id\":\"1036\",\"type\":\"ColumnDataSource\"},{\"attributes\":{},\"id\":\"1023\",\"type\":\"WheelZoomTool\"},{\"attributes\":{},\"id\":\"1080\",\"type\":\"BasicTickFormatter\"},{\"attributes\":{},\"id\":\"1053\",\"type\":\"BasicTicker\"},{\"attributes\":{\"axis\":{\"id\":\"1018\"},\"dimension\":1,\"ticker\":null},\"id\":\"1021\",\"type\":\"Grid\"},{\"attributes\":{\"overlay\":{\"id\":\"1028\"}},\"id\":\"1024\",\"type\":\"BoxZoomTool\"},{\"attributes\":{\"axis\":{\"id\":\"1052\"},\"grid_line_color\":null,\"ticker\":null},\"id\":\"1055\",\"type\":\"Grid\"},{\"attributes\":{\"axis\":{\"id\":\"1014\"},\"grid_line_color\":null,\"ticker\":null},\"id\":\"1017\",\"type\":\"Grid\"},{\"attributes\":{},\"id\":\"1025\",\"type\":\"SaveTool\"},{\"attributes\":{\"children\":[[{\"id\":\"1003\"},0,0],[{\"id\":\"1041\"},0,1]]},\"id\":\"1101\",\"type\":\"GridBox\"},{\"attributes\":{\"formatter\":{\"id\":\"1091\"},\"major_label_policy\":{\"id\":\"1092\"},\"ticker\":{\"id\":\"1057\"}},\"id\":\"1056\",\"type\":\"LinearAxis\"},{\"attributes\":{},\"id\":\"1083\",\"type\":\"BasicTickFormatter\"},{\"attributes\":{\"formatter\":{\"id\":\"1080\"},\"major_label_policy\":{\"id\":\"1081\"},\"ticker\":{\"id\":\"1019\"}},\"id\":\"1018\",\"type\":\"LinearAxis\"},{\"attributes\":{\"fill_alpha\":{\"value\":0.1},\"fill_color\":{\"value\":\"#1f77b4\"},\"line_alpha\":{\"value\":0.1},\"line_color\":{\"value\":\"#1f77b4\"},\"top\":{\"field\":\"top\"},\"width\":{\"value\":0.9},\"x\":{\"field\":\"x\"}},\"id\":\"1038\",\"type\":\"VBar\"},{\"attributes\":{},\"id\":\"1057\",\"type\":\"BasicTicker\"},{\"attributes\":{},\"id\":\"1084\",\"type\":\"AllLabels\"},{\"attributes\":{\"axis\":{\"id\":\"1056\"},\"dimension\":1,\"ticker\":null},\"id\":\"1059\",\"type\":\"Grid\"},{\"attributes\":{},\"id\":\"1026\",\"type\":\"ResetTool\"},{\"attributes\":{},\"id\":\"1086\",\"type\":\"UnionRenderers\"},{\"attributes\":{},\"id\":\"1019\",\"type\":\"BasicTicker\"},{\"attributes\":{},\"id\":\"1095\",\"type\":\"AllLabels\"},{\"attributes\":{\"formatter\":{\"id\":\"1083\"},\"major_label_policy\":{\"id\":\"1084\"},\"ticker\":{\"id\":\"1015\"}},\"id\":\"1014\",\"type\":\"LinearAxis\"},{\"attributes\":{\"fill_alpha\":{\"value\":0.1},\"fill_color\":{\"value\":\"#1f77b4\"},\"line_alpha\":{\"value\":0.1},\"line_color\":{\"value\":\"#1f77b4\"},\"top\":{\"field\":\"top\"},\"width\":{\"value\":0.9},\"x\":{\"field\":\"x\"}},\"id\":\"1076\",\"type\":\"VBar\"},{\"attributes\":{},\"id\":\"1027\",\"type\":\"HelpTool\"},{\"attributes\":{},\"id\":\"1087\",\"type\":\"Selection\"},{\"attributes\":{},\"id\":\"1091\",\"type\":\"BasicTickFormatter\"},{\"attributes\":{\"data\":{\"top\":[142.4,142.5,142.9,142.9,143.3,145.1,146.4,147.3,147.6,147.6,148.5,148.7,148.7,149.5,150.4,150.9,151.4,151.4,152.5,153.9,154.0,154.5,156.7,161.9],\"x\":[0,1,2,3,4,5,6,7,8,9,10,11,12,13,14,15,16,17,18,19,20,21,22,23]},\"selected\":{\"id\":\"1098\"},\"selection_policy\":{\"id\":\"1097\"}},\"id\":\"1074\",\"type\":\"ColumnDataSource\"},{\"attributes\":{\"fill_color\":{\"value\":\"#1f77b4\"},\"line_color\":{\"value\":\"#1f77b4\"},\"top\":{\"field\":\"top\"},\"width\":{\"value\":0.9},\"x\":{\"field\":\"x\"}},\"id\":\"1075\",\"type\":\"VBar\"},{\"attributes\":{\"active_multi\":null,\"tools\":[{\"id\":\"1022\"},{\"id\":\"1023\"},{\"id\":\"1024\"},{\"id\":\"1025\"},{\"id\":\"1026\"},{\"id\":\"1027\"}]},\"id\":\"1029\",\"type\":\"Toolbar\"},{\"attributes\":{},\"id\":\"1092\",\"type\":\"AllLabels\"},{\"attributes\":{},\"id\":\"1060\",\"type\":\"PanTool\"},{\"attributes\":{\"bottom_units\":\"screen\",\"fill_alpha\":0.5,\"fill_color\":\"lightgrey\",\"left_units\":\"screen\",\"level\":\"overlay\",\"line_alpha\":1.0,\"line_color\":\"black\",\"line_dash\":[4,4],\"line_width\":2,\"right_units\":\"screen\",\"syncable\":false,\"top_units\":\"screen\"},\"id\":\"1028\",\"type\":\"BoxAnnotation\"},{\"attributes\":{},\"id\":\"1094\",\"type\":\"BasicTickFormatter\"},{\"attributes\":{},\"id\":\"1061\",\"type\":\"WheelZoomTool\"},{\"attributes\":{},\"id\":\"1006\",\"type\":\"DataRange1d\"},{\"attributes\":{},\"id\":\"1015\",\"type\":\"BasicTicker\"},{\"attributes\":{\"overlay\":{\"id\":\"1066\"}},\"id\":\"1062\",\"type\":\"BoxZoomTool\"},{\"attributes\":{\"source\":{\"id\":\"1036\"}},\"id\":\"1040\",\"type\":\"CDSView\"}],\"root_ids\":[\"1104\"]},\"title\":\"Bokeh Application\",\"version\":\"2.3.3\"}};\n",
       "  var render_items = [{\"docid\":\"a41fcc03-963f-435a-9ee1-8792432ec5c9\",\"root_ids\":[\"1104\"],\"roots\":{\"1104\":\"f349b37c-5d4d-4e97-af7f-4c035b550256\"}}];\n",
       "  root.Bokeh.embed.embed_items_notebook(docs_json, render_items);\n",
       "\n",
       "  }\n",
       "  if (root.Bokeh !== undefined) {\n",
       "    embed_document(root);\n",
       "  } else {\n",
       "    var attempts = 0;\n",
       "    var timer = setInterval(function(root) {\n",
       "      if (root.Bokeh !== undefined) {\n",
       "        clearInterval(timer);\n",
       "        embed_document(root);\n",
       "      } else {\n",
       "        attempts++;\n",
       "        if (attempts > 100) {\n",
       "          clearInterval(timer);\n",
       "          console.log(\"Bokeh: ERROR: Unable to run BokehJS code because BokehJS library is missing\");\n",
       "        }\n",
       "      }\n",
       "    }, 10, root)\n",
       "  }\n",
       "})(window);"
      ],
      "application/vnd.bokehjs_exec.v0+json": ""
     },
     "metadata": {
      "application/vnd.bokehjs_exec.v0+json": {
       "id": "1104"
      }
     },
     "output_type": "display_data"
    }
   ],
   "source": [
    "def make_bar(labels, nums, title = None, y_range = None, plot_width = 350, plot_height = 350):\n",
    "    p = figure(title = title, plot_width = plot_width, plot_height = plot_height,\n",
    "              y_range = y_range)\n",
    "    p.vbar(x=labels, top=nums, width=0.9)\n",
    "    p.xgrid.grid_line_color = None\n",
    "    return p\n",
    "\n",
    "P_WILLOW_A = make_bar(labels = [x for x in range(len(WILLOW_A))], nums = sorted(WILLOW_A), \n",
    "               title = 'Freckles', y_range = (120, 160))\n",
    "P_WILLOW_B = make_bar(labels = [x for x in range(len(WILLOW_B))], nums = sorted(WILLOW_B), \n",
    "               title = \"No Freckles\", y_range = (120, 160))\n",
    "\n",
    "\n",
    "grid = gridplot([ P_WILLOW_A, P_WILLOW_B,], ncols = 2)\n",
    "show(grid)"
   ]
  },
  {
   "cell_type": "markdown",
   "metadata": {},
   "source": [
    "Let's get the means"
   ]
  },
  {
   "cell_type": "code",
   "execution_count": 14,
   "metadata": {},
   "outputs": [
    {
     "name": "stdout",
     "output_type": "stream",
     "text": [
      "150.064\n",
      "149.20833333333334\n",
      "24\n"
     ]
    }
   ],
   "source": [
    "\n",
    "print(np.mean(WILLOW_A))\n",
    "print(np.mean(WILLOW_B))\n",
    "print(np.size(WILLOW_B))"
   ]
  },
  {
   "cell_type": "markdown",
   "metadata": {},
   "source": [
    "Class A has a mean 150.064, and class B has a mean of 149.208. That is a difference of .86 cm. \n",
    "\n",
    "Answer the following:\n",
    "\n",
    "Do you still think there is no difference between the two classrooms in the Willow School? Why? \n",
    "\n",
    "#### Answer: \n",
    "\n",
    "Yes, maybe there is a difference. See the discussion below."
   ]
  },
  {
   "cell_type": "markdown",
   "metadata": {},
   "source": [
    "### Randomness\n",
    "Mabye the difference in heigh between the two classrooms  is just due to randomness. How can we know? \n",
    "\n",
    "Imagine an experiment. We got to a big city and find 1,000 students who are 12 years old and have freckles. We ramdonly choose 25 (the size of the class A).\n",
    "\n",
    "In the same big city, we find 1,000 students who are 12 years old and have no freckles. We randomly choose 24, (the size of Class B). \n",
    "\n",
    "We calculate the means of each of these groups. \n",
    "\n",
    "Answer the following: Do you expect the same result as the mean above (150.064 and 149.228)? Why? \n",
    "\n",
    "Do you expect the mean from either group to be much different from the original (around 150 cm)? Why?\n",
    "\n",
    "#### Answer:\n",
    "\n",
    "No, you would expect to get different means since 12 year olds are not the same height. You would expect the means to be around 150 cm for each.\n"
   ]
  },
  {
   "cell_type": "markdown",
   "metadata": {},
   "source": [
    "### Resample with Python \n",
    "\n",
    "Let's conduct the experiment in Python. We want to imitate our experiment of going the big city, finding 1,000 students and choosing 25 and 24. \n",
    "\n",
    "The resample function takes a list and expands it to the size of 1,000. It shuffles it, or mixes it up.\n",
    "\n",
    "The make_grid function creates the graphs. "
   ]
  },
  {
   "cell_type": "code",
   "execution_count": 15,
   "metadata": {},
   "outputs": [
    {
     "name": "stdout",
     "output_type": "stream",
     "text": [
      "the mean of resample 1 is 149.712 and the mean of resample2 is 150.14166666666668\n"
     ]
    },
    {
     "data": {
      "text/html": [
       "\n",
       "\n",
       "\n",
       "\n",
       "\n",
       "\n",
       "  <div class=\"bk-root\" id=\"b1114580-3bbb-4cc2-a02e-6b4e38b4ca5b\" data-root-id=\"1326\"></div>\n"
      ]
     },
     "metadata": {},
     "output_type": "display_data"
    },
    {
     "data": {
      "application/javascript": [
       "(function(root) {\n",
       "  function embed_document(root) {\n",
       "    \n",
       "  var docs_json = {\"60aefc52-0d68-4a9d-a18b-688a1945f030\":{\"defs\":[],\"roots\":{\"references\":[{\"attributes\":{\"children\":[{\"id\":\"1325\"},{\"id\":\"1323\"}]},\"id\":\"1326\",\"type\":\"Column\"},{\"attributes\":{\"end\":180,\"start\":120},\"id\":\"1268\",\"type\":\"Range1d\"},{\"attributes\":{\"bottom_units\":\"screen\",\"fill_alpha\":0.5,\"fill_color\":\"lightgrey\",\"left_units\":\"screen\",\"level\":\"overlay\",\"line_alpha\":1.0,\"line_color\":\"black\",\"line_dash\":[4,4],\"line_width\":2,\"right_units\":\"screen\",\"syncable\":false,\"top_units\":\"screen\"},\"id\":\"1250\",\"type\":\"BoxAnnotation\"},{\"attributes\":{\"below\":[{\"id\":\"1236\"}],\"center\":[{\"id\":\"1239\"},{\"id\":\"1243\"}],\"height\":350,\"left\":[{\"id\":\"1240\"}],\"renderers\":[{\"id\":\"1261\"}],\"title\":{\"id\":\"1226\"},\"toolbar\":{\"id\":\"1251\"},\"toolbar_location\":null,\"width\":350,\"x_range\":{\"id\":\"1228\"},\"x_scale\":{\"id\":\"1232\"},\"y_range\":{\"id\":\"1230\"},\"y_scale\":{\"id\":\"1234\"}},\"id\":\"1225\",\"subtype\":\"Figure\",\"type\":\"Plot\"},{\"attributes\":{\"toolbars\":[{\"id\":\"1251\"},{\"id\":\"1289\"}],\"tools\":[{\"id\":\"1244\"},{\"id\":\"1245\"},{\"id\":\"1246\"},{\"id\":\"1247\"},{\"id\":\"1248\"},{\"id\":\"1249\"},{\"id\":\"1282\"},{\"id\":\"1283\"},{\"id\":\"1284\"},{\"id\":\"1285\"},{\"id\":\"1286\"},{\"id\":\"1287\"}]},\"id\":\"1324\",\"type\":\"ProxyToolbar\"},{\"attributes\":{},\"id\":\"1232\",\"type\":\"LinearScale\"},{\"attributes\":{\"axis\":{\"id\":\"1278\"},\"dimension\":1,\"ticker\":null},\"id\":\"1281\",\"type\":\"Grid\"},{\"attributes\":{\"formatter\":{\"id\":\"1316\"},\"major_label_policy\":{\"id\":\"1317\"},\"ticker\":{\"id\":\"1275\"}},\"id\":\"1274\",\"type\":\"LinearAxis\"},{\"attributes\":{\"source\":{\"id\":\"1258\"}},\"id\":\"1262\",\"type\":\"CDSView\"},{\"attributes\":{},\"id\":\"1306\",\"type\":\"AllLabels\"},{\"attributes\":{},\"id\":\"1279\",\"type\":\"BasicTicker\"},{\"attributes\":{\"toolbar\":{\"id\":\"1324\"},\"toolbar_location\":\"above\"},\"id\":\"1325\",\"type\":\"ToolbarBox\"},{\"attributes\":{\"source\":{\"id\":\"1296\"}},\"id\":\"1300\",\"type\":\"CDSView\"},{\"attributes\":{\"data_source\":{\"id\":\"1296\"},\"glyph\":{\"id\":\"1297\"},\"hover_glyph\":null,\"muted_glyph\":null,\"nonselection_glyph\":{\"id\":\"1298\"},\"view\":{\"id\":\"1300\"}},\"id\":\"1299\",\"type\":\"GlyphRenderer\"},{\"attributes\":{},\"id\":\"1309\",\"type\":\"Selection\"},{\"attributes\":{},\"id\":\"1316\",\"type\":\"BasicTickFormatter\"},{\"attributes\":{\"fill_alpha\":{\"value\":0.1},\"fill_color\":{\"value\":\"#1f77b4\"},\"line_alpha\":{\"value\":0.1},\"line_color\":{\"value\":\"#1f77b4\"},\"top\":{\"field\":\"top\"},\"width\":{\"value\":0.9},\"x\":{\"field\":\"x\"}},\"id\":\"1260\",\"type\":\"VBar\"},{\"attributes\":{},\"id\":\"1308\",\"type\":\"UnionRenderers\"},{\"attributes\":{\"text\":\"Resample B\"},\"id\":\"1264\",\"type\":\"Title\"},{\"attributes\":{},\"id\":\"1303\",\"type\":\"AllLabels\"},{\"attributes\":{},\"id\":\"1305\",\"type\":\"BasicTickFormatter\"},{\"attributes\":{\"fill_color\":{\"value\":\"#1f77b4\"},\"line_color\":{\"value\":\"#1f77b4\"},\"top\":{\"field\":\"top\"},\"width\":{\"value\":0.9},\"x\":{\"field\":\"x\"}},\"id\":\"1297\",\"type\":\"VBar\"},{\"attributes\":{\"axis\":{\"id\":\"1274\"},\"grid_line_color\":null,\"ticker\":null},\"id\":\"1277\",\"type\":\"Grid\"},{\"attributes\":{},\"id\":\"1282\",\"type\":\"PanTool\"},{\"attributes\":{\"bottom_units\":\"screen\",\"fill_alpha\":0.5,\"fill_color\":\"lightgrey\",\"left_units\":\"screen\",\"level\":\"overlay\",\"line_alpha\":1.0,\"line_color\":\"black\",\"line_dash\":[4,4],\"line_width\":2,\"right_units\":\"screen\",\"syncable\":false,\"top_units\":\"screen\"},\"id\":\"1288\",\"type\":\"BoxAnnotation\"},{\"attributes\":{},\"id\":\"1245\",\"type\":\"WheelZoomTool\"},{\"attributes\":{\"axis\":{\"id\":\"1236\"},\"grid_line_color\":null,\"ticker\":null},\"id\":\"1239\",\"type\":\"Grid\"},{\"attributes\":{},\"id\":\"1248\",\"type\":\"ResetTool\"},{\"attributes\":{\"fill_color\":{\"value\":\"#1f77b4\"},\"line_color\":{\"value\":\"#1f77b4\"},\"top\":{\"field\":\"top\"},\"width\":{\"value\":0.9},\"x\":{\"field\":\"x\"}},\"id\":\"1259\",\"type\":\"VBar\"},{\"attributes\":{\"overlay\":{\"id\":\"1288\"}},\"id\":\"1284\",\"type\":\"BoxZoomTool\"},{\"attributes\":{\"formatter\":{\"id\":\"1302\"},\"major_label_policy\":{\"id\":\"1303\"},\"ticker\":{\"id\":\"1241\"}},\"id\":\"1240\",\"type\":\"LinearAxis\"},{\"attributes\":{\"below\":[{\"id\":\"1274\"}],\"center\":[{\"id\":\"1277\"},{\"id\":\"1281\"}],\"height\":350,\"left\":[{\"id\":\"1278\"}],\"renderers\":[{\"id\":\"1299\"}],\"title\":{\"id\":\"1264\"},\"toolbar\":{\"id\":\"1289\"},\"toolbar_location\":null,\"width\":350,\"x_range\":{\"id\":\"1266\"},\"x_scale\":{\"id\":\"1270\"},\"y_range\":{\"id\":\"1268\"},\"y_scale\":{\"id\":\"1272\"}},\"id\":\"1263\",\"subtype\":\"Figure\",\"type\":\"Plot\"},{\"attributes\":{},\"id\":\"1287\",\"type\":\"HelpTool\"},{\"attributes\":{\"active_multi\":null,\"tools\":[{\"id\":\"1244\"},{\"id\":\"1245\"},{\"id\":\"1246\"},{\"id\":\"1247\"},{\"id\":\"1248\"},{\"id\":\"1249\"}]},\"id\":\"1251\",\"type\":\"Toolbar\"},{\"attributes\":{},\"id\":\"1313\",\"type\":\"BasicTickFormatter\"},{\"attributes\":{},\"id\":\"1286\",\"type\":\"ResetTool\"},{\"attributes\":{},\"id\":\"1266\",\"type\":\"DataRange1d\"},{\"attributes\":{},\"id\":\"1234\",\"type\":\"LinearScale\"},{\"attributes\":{},\"id\":\"1249\",\"type\":\"HelpTool\"},{\"attributes\":{},\"id\":\"1302\",\"type\":\"BasicTickFormatter\"},{\"attributes\":{\"text\":\"Resample A\"},\"id\":\"1226\",\"type\":\"Title\"},{\"attributes\":{},\"id\":\"1275\",\"type\":\"BasicTicker\"},{\"attributes\":{},\"id\":\"1314\",\"type\":\"AllLabels\"},{\"attributes\":{},\"id\":\"1244\",\"type\":\"PanTool\"},{\"attributes\":{\"data_source\":{\"id\":\"1258\"},\"glyph\":{\"id\":\"1259\"},\"hover_glyph\":null,\"muted_glyph\":null,\"nonselection_glyph\":{\"id\":\"1260\"},\"view\":{\"id\":\"1262\"}},\"id\":\"1261\",\"type\":\"GlyphRenderer\"},{\"attributes\":{},\"id\":\"1283\",\"type\":\"WheelZoomTool\"},{\"attributes\":{\"fill_alpha\":{\"value\":0.1},\"fill_color\":{\"value\":\"#1f77b4\"},\"line_alpha\":{\"value\":0.1},\"line_color\":{\"value\":\"#1f77b4\"},\"top\":{\"field\":\"top\"},\"width\":{\"value\":0.9},\"x\":{\"field\":\"x\"}},\"id\":\"1298\",\"type\":\"VBar\"},{\"attributes\":{},\"id\":\"1317\",\"type\":\"AllLabels\"},{\"attributes\":{},\"id\":\"1241\",\"type\":\"BasicTicker\"},{\"attributes\":{},\"id\":\"1247\",\"type\":\"SaveTool\"},{\"attributes\":{\"active_multi\":null,\"tools\":[{\"id\":\"1282\"},{\"id\":\"1283\"},{\"id\":\"1284\"},{\"id\":\"1285\"},{\"id\":\"1286\"},{\"id\":\"1287\"}]},\"id\":\"1289\",\"type\":\"Toolbar\"},{\"attributes\":{},\"id\":\"1228\",\"type\":\"DataRange1d\"},{\"attributes\":{\"data\":{\"top\":[142.0,142.0,142.0,142.4,142.4,145.1,146.1,146.1,146.1,149.9,151.2,151.4,151.6,151.8,152.4,152.4,152.7,152.9,153.5,154.1,154.1,154.2,154.6,155.9,155.9],\"x\":[0,1,2,3,4,5,6,7,8,9,10,11,12,13,14,15,16,17,18,19,20,21,22,23,24]},\"selected\":{\"id\":\"1309\"},\"selection_policy\":{\"id\":\"1308\"}},\"id\":\"1258\",\"type\":\"ColumnDataSource\"},{\"attributes\":{\"formatter\":{\"id\":\"1305\"},\"major_label_policy\":{\"id\":\"1306\"},\"ticker\":{\"id\":\"1237\"}},\"id\":\"1236\",\"type\":\"LinearAxis\"},{\"attributes\":{\"children\":[[{\"id\":\"1225\"},0,0],[{\"id\":\"1263\"},0,1]]},\"id\":\"1323\",\"type\":\"GridBox\"},{\"attributes\":{},\"id\":\"1319\",\"type\":\"UnionRenderers\"},{\"attributes\":{\"axis\":{\"id\":\"1240\"},\"dimension\":1,\"ticker\":null},\"id\":\"1243\",\"type\":\"Grid\"},{\"attributes\":{\"overlay\":{\"id\":\"1250\"}},\"id\":\"1246\",\"type\":\"BoxZoomTool\"},{\"attributes\":{\"end\":180,\"start\":120},\"id\":\"1230\",\"type\":\"Range1d\"},{\"attributes\":{},\"id\":\"1237\",\"type\":\"BasicTicker\"},{\"attributes\":{},\"id\":\"1270\",\"type\":\"LinearScale\"},{\"attributes\":{\"data\":{\"top\":[142.4,142.5,142.9,142.9,143.3,145.1,147.3,147.6,148.5,148.7,150.4,150.4,150.9,151.4,152.5,152.5,152.5,153.9,153.9,154.0,154.5,156.7,156.7,161.9],\"x\":[0,1,2,3,4,5,6,7,8,9,10,11,12,13,14,15,16,17,18,19,20,21,22,23]},\"selected\":{\"id\":\"1320\"},\"selection_policy\":{\"id\":\"1319\"}},\"id\":\"1296\",\"type\":\"ColumnDataSource\"},{\"attributes\":{},\"id\":\"1320\",\"type\":\"Selection\"},{\"attributes\":{},\"id\":\"1272\",\"type\":\"LinearScale\"},{\"attributes\":{},\"id\":\"1285\",\"type\":\"SaveTool\"},{\"attributes\":{\"formatter\":{\"id\":\"1313\"},\"major_label_policy\":{\"id\":\"1314\"},\"ticker\":{\"id\":\"1279\"}},\"id\":\"1278\",\"type\":\"LinearAxis\"}],\"root_ids\":[\"1326\"]},\"title\":\"Bokeh Application\",\"version\":\"2.3.3\"}};\n",
       "  var render_items = [{\"docid\":\"60aefc52-0d68-4a9d-a18b-688a1945f030\",\"root_ids\":[\"1326\"],\"roots\":{\"1326\":\"b1114580-3bbb-4cc2-a02e-6b4e38b4ca5b\"}}];\n",
       "  root.Bokeh.embed.embed_items_notebook(docs_json, render_items);\n",
       "\n",
       "  }\n",
       "  if (root.Bokeh !== undefined) {\n",
       "    embed_document(root);\n",
       "  } else {\n",
       "    var attempts = 0;\n",
       "    var timer = setInterval(function(root) {\n",
       "      if (root.Bokeh !== undefined) {\n",
       "        clearInterval(timer);\n",
       "        embed_document(root);\n",
       "      } else {\n",
       "        attempts++;\n",
       "        if (attempts > 100) {\n",
       "          clearInterval(timer);\n",
       "          console.log(\"Bokeh: ERROR: Unable to run BokehJS code because BokehJS library is missing\");\n",
       "        }\n",
       "      }\n",
       "    }, 10, root)\n",
       "  }\n",
       "})(window);"
      ],
      "application/vnd.bokehjs_exec.v0+json": ""
     },
     "metadata": {
      "application/vnd.bokehjs_exec.v0+json": {
       "id": "1326"
      }
     },
     "output_type": "display_data"
    }
   ],
   "source": [
    "#NOTE!! Do not use seed for results. Just using this for instructional purposes\n",
    "random.seed(13)\n",
    "def resample(l):\n",
    "    \"\"\"There is a better way to do this; but this helps in explaining\"\"\"\n",
    "    population = l * 40 # we are making around 1,000 studens\n",
    "    random.shuffle(population) # mix them up\n",
    "    return population[:len(l)] # return number of sample size\n",
    "\n",
    "def make_grid(sample_a, sample_b):\n",
    "    resample_a = resample(sample_a)\n",
    "    resample_b = resample(sample_b)\n",
    "    p1= make_bar(labels = [x for x in range(len(resample_a))], nums = sorted(resample_a), \n",
    "               title = \"Resample A\", y_range = (120, 180))\n",
    "    p2 = make_bar(labels = [x for x in range(len(resample_b))], nums = sorted(resample_b), \n",
    "               title = \"Resample B\", y_range = (120, 180))\n",
    "    grid = gridplot([p1, p2], ncols = 2)\n",
    "    print('the mean of resample 1 is {r1} and the mean of resample2 is {r2}'.format(\n",
    "        r1 = np.mean(resample_a), r2 = np.mean(resample_b)))\n",
    "    return grid\n",
    "show(make_grid(WILLOW_A, WILLOW_B))\n"
   ]
  },
  {
   "cell_type": "markdown",
   "metadata": {},
   "source": [
    "Now the mean of class A is smaller than the mean of Class B. "
   ]
  },
  {
   "cell_type": "markdown",
   "metadata": {},
   "source": [
    "## Population vs Samples\n",
    "\n",
    "In statistics, we talk about a sample and the population. The population is *everthing*. For example, the population for the average rainfall in the Amazon is the average for every single year, from the beginnig of time until the end of the world. A sample is the set of year 2000 to 2010. \n",
    "\n",
    "Other examples: The population is every vote from the American election in 2020. A sample is when a poll was taken and only 1,000 people were asked. The population is all the games from the NBA basketball season in 2018 when the Golden State Warriors won. A sample is the games only played for the first 3 months.\n",
    "\n",
    "Generally we think of our data sets as samples. We can never have all the data. We only have little bits. We have to guess what these little bits mean. Because we don't know the population, we have to estimate if our samples are reallly different. The differences between the population and the sample is known as the sampling error. We have sampling error in all polls, because we are trying to estimate the population based on a sample. \n",
    "\n",
    "We can think of each classroom as a sample. We created a population by expanding the list to 1,000 and then shuffling it. \n",
    "\n",
    "If the students come from the same population, then if we mix them up (resample) we would expect to get the same results. But if they came from different populations, we would expect to get different results. \n",
    "\n",
    "For the Willow school, we can think of the students coming from the same population. That is why the resampled means look the same.\n"
   ]
  },
  {
   "cell_type": "markdown",
   "metadata": {},
   "source": [
    "### Repeat Random Trials\n",
    "We conducted our experiment once. That is not enough. We want to conduct the experiment, many, many times. We want to go to the city choose 25 and 24 students, get the mean, and do it again, then again, and so on. Let's do the experiment a thousand times. "
   ]
  },
  {
   "cell_type": "code",
   "execution_count": 22,
   "metadata": {},
   "outputs": [],
   "source": [
    "def hist(l):\n",
    "    hist, edges = np.histogram(l, density=True)\n",
    "    p = figure()\n",
    "    p.quad(top = hist, bottom=0, left=edges[:-1], right=edges[1:], alpha = .4)\n",
    "    return p"
   ]
  },
  {
   "cell_type": "code",
   "execution_count": 23,
   "metadata": {},
   "outputs": [
    {
     "data": {
      "text/html": [
       "\n",
       "\n",
       "\n",
       "\n",
       "\n",
       "\n",
       "  <div class=\"bk-root\" id=\"fb0128d8-f5fe-4262-aff3-a5b717d08f85\" data-root-id=\"3130\"></div>\n"
      ]
     },
     "metadata": {},
     "output_type": "display_data"
    },
    {
     "data": {
      "application/javascript": [
       "(function(root) {\n",
       "  function embed_document(root) {\n",
       "    \n",
       "  var docs_json = {\"7b036fb4-e313-4e3c-8b8a-542001962b3d\":{\"roots\":{\"references\":[{\"attributes\":{\"below\":[{\"id\":\"3139\"}],\"center\":[{\"id\":\"3142\"},{\"id\":\"3146\"}],\"left\":[{\"id\":\"3143\"}],\"renderers\":[{\"id\":\"3164\"}],\"title\":{\"id\":\"3295\"},\"toolbar\":{\"id\":\"3154\"},\"x_range\":{\"id\":\"3131\"},\"x_scale\":{\"id\":\"3135\"},\"y_range\":{\"id\":\"3133\"},\"y_scale\":{\"id\":\"3137\"}},\"id\":\"3130\",\"subtype\":\"Figure\",\"type\":\"Plot\"},{\"attributes\":{\"source\":{\"id\":\"3161\"}},\"id\":\"3165\",\"type\":\"CDSView\"},{\"attributes\":{},\"id\":\"3135\",\"type\":\"LinearScale\"},{\"attributes\":{\"bottom\":{\"value\":0},\"fill_alpha\":{\"value\":0.1},\"fill_color\":{\"value\":\"#1f77b4\"},\"left\":{\"field\":\"left\"},\"line_alpha\":{\"value\":0.1},\"line_color\":{\"value\":\"#1f77b4\"},\"right\":{\"field\":\"right\"},\"top\":{\"field\":\"top\"}},\"id\":\"3163\",\"type\":\"Quad\"},{\"attributes\":{},\"id\":\"3148\",\"type\":\"WheelZoomTool\"},{\"attributes\":{\"bottom_units\":\"screen\",\"fill_alpha\":0.5,\"fill_color\":\"lightgrey\",\"left_units\":\"screen\",\"level\":\"overlay\",\"line_alpha\":1.0,\"line_color\":\"black\",\"line_dash\":[4,4],\"line_width\":2,\"right_units\":\"screen\",\"top_units\":\"screen\"},\"id\":\"3153\",\"type\":\"BoxAnnotation\"},{\"attributes\":{\"text\":\"\"},\"id\":\"3295\",\"type\":\"Title\"},{\"attributes\":{},\"id\":\"3144\",\"type\":\"BasicTicker\"},{\"attributes\":{\"bottom\":{\"value\":0},\"fill_alpha\":{\"value\":0.4},\"fill_color\":{\"value\":\"#1f77b4\"},\"left\":{\"field\":\"left\"},\"line_alpha\":{\"value\":0.4},\"line_color\":{\"value\":\"#1f77b4\"},\"right\":{\"field\":\"right\"},\"top\":{\"field\":\"top\"}},\"id\":\"3162\",\"type\":\"Quad\"},{\"attributes\":{},\"id\":\"3302\",\"type\":\"Selection\"},{\"attributes\":{},\"id\":\"3151\",\"type\":\"ResetTool\"},{\"attributes\":{},\"id\":\"3150\",\"type\":\"SaveTool\"},{\"attributes\":{},\"id\":\"3133\",\"type\":\"DataRange1d\"},{\"attributes\":{\"axis\":{\"id\":\"3143\"},\"dimension\":1,\"ticker\":null},\"id\":\"3146\",\"type\":\"Grid\"},{\"attributes\":{\"overlay\":{\"id\":\"3153\"}},\"id\":\"3149\",\"type\":\"BoxZoomTool\"},{\"attributes\":{\"data\":{\"left\":{\"__ndarray__\":\"gEzwYJ4oFMBKWolmizEQwCbQRNjwdAjAuut248qGAMCaDlLdSTHxvwBcZDvfT7W/MAbL65sO7T/0S4HfmWP+P2aKjuTyHwdA1G5c2RgOD0A=\",\"dtype\":\"float64\",\"order\":\"little\",\"shape\":[10]},\"right\":{\"__ndarray__\":\"SlqJZosxEMAm0ETY8HQIwLrrduPKhgDAmg5S3Ukx8b8AXGQ730+1vzAGy+ubDu0/9EuB35lj/j9mio7k8h8HQNRuXNkYDg9AoCkVZx9+E0A=\",\"dtype\":\"float64\",\"order\":\"little\",\"shape\":[10]},\"top\":{\"__ndarray__\":\"rM37ki+HUD98tHlcx8poP806GmrhuYY/MUMAtz95rj9LsAY2GOvEP7WjuW53LNE/HoJR67Cw0T/ppyyVJgzFP54MccvmX6s/rM37ki+HgD8=\",\"dtype\":\"float64\",\"order\":\"little\",\"shape\":[10]}},\"selected\":{\"id\":\"3302\"},\"selection_policy\":{\"id\":\"3301\"}},\"id\":\"3161\",\"type\":\"ColumnDataSource\"},{\"attributes\":{\"data_source\":{\"id\":\"3161\"},\"glyph\":{\"id\":\"3162\"},\"hover_glyph\":null,\"muted_glyph\":null,\"nonselection_glyph\":{\"id\":\"3163\"},\"selection_glyph\":null,\"view\":{\"id\":\"3165\"}},\"id\":\"3164\",\"type\":\"GlyphRenderer\"},{\"attributes\":{},\"id\":\"3137\",\"type\":\"LinearScale\"},{\"attributes\":{},\"id\":\"3152\",\"type\":\"HelpTool\"},{\"attributes\":{},\"id\":\"3147\",\"type\":\"PanTool\"},{\"attributes\":{},\"id\":\"3140\",\"type\":\"BasicTicker\"},{\"attributes\":{\"axis\":{\"id\":\"3139\"},\"ticker\":null},\"id\":\"3142\",\"type\":\"Grid\"},{\"attributes\":{\"formatter\":{\"id\":\"3297\"},\"ticker\":{\"id\":\"3140\"}},\"id\":\"3139\",\"type\":\"LinearAxis\"},{\"attributes\":{},\"id\":\"3299\",\"type\":\"BasicTickFormatter\"},{\"attributes\":{},\"id\":\"3297\",\"type\":\"BasicTickFormatter\"},{\"attributes\":{\"active_drag\":\"auto\",\"active_inspect\":\"auto\",\"active_multi\":null,\"active_scroll\":\"auto\",\"active_tap\":\"auto\",\"tools\":[{\"id\":\"3147\"},{\"id\":\"3148\"},{\"id\":\"3149\"},{\"id\":\"3150\"},{\"id\":\"3151\"},{\"id\":\"3152\"}]},\"id\":\"3154\",\"type\":\"Toolbar\"},{\"attributes\":{\"formatter\":{\"id\":\"3299\"},\"ticker\":{\"id\":\"3144\"}},\"id\":\"3143\",\"type\":\"LinearAxis\"},{\"attributes\":{},\"id\":\"3301\",\"type\":\"UnionRenderers\"},{\"attributes\":{},\"id\":\"3131\",\"type\":\"DataRange1d\"}],\"root_ids\":[\"3130\"]},\"title\":\"Bokeh Application\",\"version\":\"2.1.1\"}};\n",
       "  var render_items = [{\"docid\":\"7b036fb4-e313-4e3c-8b8a-542001962b3d\",\"root_ids\":[\"3130\"],\"roots\":{\"3130\":\"fb0128d8-f5fe-4262-aff3-a5b717d08f85\"}}];\n",
       "  root.Bokeh.embed.embed_items_notebook(docs_json, render_items);\n",
       "\n",
       "  }\n",
       "  if (root.Bokeh !== undefined) {\n",
       "    embed_document(root);\n",
       "  } else {\n",
       "    var attempts = 0;\n",
       "    var timer = setInterval(function(root) {\n",
       "      if (root.Bokeh !== undefined) {\n",
       "        clearInterval(timer);\n",
       "        embed_document(root);\n",
       "      } else {\n",
       "        attempts++;\n",
       "        if (attempts > 100) {\n",
       "          clearInterval(timer);\n",
       "          console.log(\"Bokeh: ERROR: Unable to run BokehJS code because BokehJS library is missing\");\n",
       "        }\n",
       "      }\n",
       "    }, 10, root)\n",
       "  }\n",
       "})(window);"
      ],
      "application/vnd.bokehjs_exec.v0+json": ""
     },
     "metadata": {
      "application/vnd.bokehjs_exec.v0+json": {
       "id": "3130"
      }
     },
     "output_type": "display_data"
    }
   ],
   "source": [
    "def repeat_resample(sample_a, sample_b, num_iter = 1000):\n",
    "    difference_in_means = []#keep track of the difference in heights for each experiment\n",
    "    for i in range(num_iter):\n",
    "        resample_a = resample(sample_a)\n",
    "        resample_b = resample(sample_b)\n",
    "        difference = np.mean(resample_a) - np.mean(resample_b)\n",
    "        difference_in_means.append(difference)\n",
    "    return difference_in_means\n",
    "results = repeat_resample(WILLOW_A, WILLOW_B)\n",
    "# results is a list of all differnces between each group, each time we did the experiment\n",
    "# show the results in a historgram. \n",
    "# a historgram is a quick way to tell us how to view data\n",
    "# https://en.wikipedia.org/wiki/Histogram\n",
    "show(hist(results))\n"
   ]
  },
  {
   "cell_type": "markdown",
   "metadata": {},
   "source": [
    "We see from our histogram that most of the differences were between 0 to 2 cm. Only a few times did the difference exceed 4. Let's determine how many:"
   ]
  },
  {
   "cell_type": "code",
   "execution_count": 24,
   "metadata": {},
   "outputs": [
    {
     "name": "stdout",
     "output_type": "stream",
     "text": [
      "number geater than 0 is 744\n"
     ]
    }
   ],
   "source": [
    "def show_diff(results):\n",
    "    greater_than_zero = len([x for x in results if x > 0])\n",
    "    print('number geater than 0 is {g}'.format(g = greater_than_zero))\n",
    "show_diff(results)"
   ]
  },
  {
   "cell_type": "markdown",
   "metadata": {},
   "source": [
    "This is not much of a difference. (I will explain a formal way to define this shortly.) About 76% of the time, students with freckles were taller than students without freckles. "
   ]
  },
  {
   "cell_type": "markdown",
   "metadata": {},
   "source": [
    "## Quantifying Our Results\n",
    "\n",
    "Let's quantify this, though. Remember, when we took the original mean of the Willow school, we found that class A has a mean of 150.064, and Class B has a mean of 149.208. That is a difference of .86 cm. When we resampled, we found that Class A had a greater mean than class B 766/1000 times, or .76. \n",
    "\n",
    "Using the above math, let's reverse the question. What is the probability for the Willow school, that class A was *not* taller than class B? 1- 766/1000 = .24. If you went to the city and did this experiment 1,000 times, 24% of the times you would actually find that class B was taller. \n"
   ]
  },
  {
   "cell_type": "markdown",
   "metadata": {},
   "source": [
    "# Intro to Two Test Hypothesis theory. \n",
    "Let's talk about two statitical terms, *null hypothesis*, and *p value*. \n",
    "\n",
    "In statistics, the null hypothesis is our original assumption. It is always the most conservative assumption, usually that there is no difference. For our case, the null hypothesis is \"Class A is *not* greater than class B.\" \n",
    "\n",
    "To test this theory, we resampled each classroom. Our assumption, or null hypthesis, was that classroom A was not taller than classroom B. This was wrong 24% of the time. We can think of the .24 as a failure. Imagine that you tell your friend that classroom A is taller. He says no. He conducts an experiment and shows that you are wrong 24% of the time. This .24 is known as the p value. It is the probability that the null hypothesis is true. The p value is .24.\n",
    "\n",
    "You might think that .24 is not a bad failure rate (p value), but in hypothesis testing, it is terrible. In general, we only accept a p value that is .05, or even better, .01. In this case, since the p value is > .05, we do not reject the null hypothesis. We say that there is not enough evidence to support the claim that classroom A is taller than classroom B.\n",
    "\n",
    "\n",
    "### P Value round\n",
    "\n",
    "Note that if your p-value is 0, you should say it is < .01. We can never know anything with 100% certainty. Also, a palue should only have two decimal places: .03, not .022885. "
   ]
  },
  {
   "cell_type": "markdown",
   "metadata": {},
   "source": [
    "## Example with two different populations\n",
    "Let's imagine another small town, Birch. In this town there is also a small school two classroom. Classroom a has students who are 12 years old, but classroom B has students who are 17 years old. In this case, we would expect a difference. Let's do the same experience. "
   ]
  },
  {
   "cell_type": "code",
   "execution_count": 26,
   "metadata": {},
   "outputs": [],
   "source": [
    "# here is the data\n",
    "def get_classroom_birch_a():\n",
    "    return [141.8, 150.2, 147.6, 146.6, 153.8,\n",
    "     149.3, 147.6, 158.0, 146.5, 142.7, 142.1,\n",
    "     146.4, 152.3, 153.3, 154.7, 158.3, 157.6,\n",
    "     152.3, 155.8, 152.4, 146.4, 153.3, 149.5,\n",
    "     148.2, 159.3]\n",
    "\n",
    "def get_classroom_birch_b():\n",
    "    return [169.6, 163.3,  177.6, 164.5,\n",
    "     169.5, 168.9, 168.4, 168.7, 163.3, 163.4,\n",
    "     165.0, 164.0, 169.9, 173.6, 161.3, 168.5,\n",
    "     160.8, 162.3, 164.6, 166.3, 163.6, 152.6,\n",
    "     172.8, 164.4]\n",
    "\n",
    "BIRCH_A = get_classroom_birch_a()\n",
    "BIRCH_B = get_classroom_birch_b()"
   ]
  },
  {
   "cell_type": "code",
   "execution_count": 30,
   "metadata": {},
   "outputs": [
    {
     "name": "stdout",
     "output_type": "stream",
     "text": [
      "150.64\n",
      "166.12083333333337\n"
     ]
    },
    {
     "data": {
      "text/html": [
       "\n",
       "\n",
       "\n",
       "\n",
       "\n",
       "\n",
       "  <div class=\"bk-root\" id=\"4d1cdd53-ee22-4b92-b616-b8e146e54b4f\" data-root-id=\"4543\"></div>\n"
      ]
     },
     "metadata": {},
     "output_type": "display_data"
    },
    {
     "data": {
      "application/javascript": [
       "(function(root) {\n",
       "  function embed_document(root) {\n",
       "    \n",
       "  var docs_json = {\"ce4a8578-7e16-4ce0-bd6d-c86fcaf57b56\":{\"roots\":{\"references\":[{\"attributes\":{\"children\":[{\"id\":\"4542\"},{\"id\":\"4540\"}]},\"id\":\"4543\",\"type\":\"Column\"},{\"attributes\":{\"overlay\":{\"id\":\"4509\"}},\"id\":\"4505\",\"type\":\"BoxZoomTool\"},{\"attributes\":{\"toolbar\":{\"id\":\"4541\"},\"toolbar_location\":\"above\"},\"id\":\"4542\",\"type\":\"ToolbarBox\"},{\"attributes\":{\"data_source\":{\"id\":\"4479\"},\"glyph\":{\"id\":\"4480\"},\"hover_glyph\":null,\"muted_glyph\":null,\"nonselection_glyph\":{\"id\":\"4481\"},\"selection_glyph\":null,\"view\":{\"id\":\"4483\"}},\"id\":\"4482\",\"type\":\"GlyphRenderer\"},{\"attributes\":{\"fill_color\":{\"value\":\"#1f77b4\"},\"line_color\":{\"value\":\"#1f77b4\"},\"top\":{\"field\":\"top\"},\"width\":{\"value\":0.9},\"x\":{\"field\":\"x\"}},\"id\":\"4480\",\"type\":\"VBar\"},{\"attributes\":{\"source\":{\"id\":\"4479\"}},\"id\":\"4483\",\"type\":\"CDSView\"},{\"attributes\":{},\"id\":\"4506\",\"type\":\"SaveTool\"},{\"attributes\":{\"children\":[[{\"id\":\"4446\"},0,0],[{\"id\":\"4484\"},0,1]]},\"id\":\"4540\",\"type\":\"GridBox\"},{\"attributes\":{\"axis\":{\"id\":\"4461\"},\"dimension\":1,\"ticker\":null},\"id\":\"4464\",\"type\":\"Grid\"},{\"attributes\":{\"data\":{\"top\":[141.8,142.1,142.7,146.4,146.4,146.5,146.6,147.6,147.6,148.2,149.3,149.5,150.2,152.3,152.3,152.4,153.3,153.3,153.8,154.7,155.8,157.6,158.0,158.3,159.3],\"x\":[0,1,2,3,4,5,6,7,8,9,10,11,12,13,14,15,16,17,18,19,20,21,22,23,24]},\"selected\":{\"id\":\"4529\"},\"selection_policy\":{\"id\":\"4528\"}},\"id\":\"4479\",\"type\":\"ColumnDataSource\"},{\"attributes\":{\"data_source\":{\"id\":\"4517\"},\"glyph\":{\"id\":\"4518\"},\"hover_glyph\":null,\"muted_glyph\":null,\"nonselection_glyph\":{\"id\":\"4519\"},\"selection_glyph\":null,\"view\":{\"id\":\"4521\"}},\"id\":\"4520\",\"type\":\"GlyphRenderer\"},{\"attributes\":{},\"id\":\"4507\",\"type\":\"ResetTool\"},{\"attributes\":{\"text\":\"17-year Old\"},\"id\":\"4485\",\"type\":\"Title\"},{\"attributes\":{},\"id\":\"4465\",\"type\":\"PanTool\"},{\"attributes\":{},\"id\":\"4508\",\"type\":\"HelpTool\"},{\"attributes\":{},\"id\":\"4466\",\"type\":\"WheelZoomTool\"},{\"attributes\":{},\"id\":\"4487\",\"type\":\"DataRange1d\"},{\"attributes\":{\"overlay\":{\"id\":\"4471\"}},\"id\":\"4467\",\"type\":\"BoxZoomTool\"},{\"attributes\":{\"active_drag\":\"auto\",\"active_inspect\":\"auto\",\"active_multi\":null,\"active_scroll\":\"auto\",\"active_tap\":\"auto\",\"tools\":[{\"id\":\"4503\"},{\"id\":\"4504\"},{\"id\":\"4505\"},{\"id\":\"4506\"},{\"id\":\"4507\"},{\"id\":\"4508\"}]},\"id\":\"4510\",\"type\":\"Toolbar\"},{\"attributes\":{\"below\":[{\"id\":\"4495\"}],\"center\":[{\"id\":\"4498\"},{\"id\":\"4502\"}],\"left\":[{\"id\":\"4499\"}],\"plot_height\":350,\"plot_width\":350,\"renderers\":[{\"id\":\"4520\"}],\"title\":{\"id\":\"4485\"},\"toolbar\":{\"id\":\"4510\"},\"toolbar_location\":null,\"x_range\":{\"id\":\"4487\"},\"x_scale\":{\"id\":\"4491\"},\"y_range\":{\"id\":\"4489\"},\"y_scale\":{\"id\":\"4493\"}},\"id\":\"4484\",\"subtype\":\"Figure\",\"type\":\"Plot\"},{\"attributes\":{\"end\":180,\"start\":120},\"id\":\"4489\",\"type\":\"Range1d\"},{\"attributes\":{\"below\":[{\"id\":\"4457\"}],\"center\":[{\"id\":\"4460\"},{\"id\":\"4464\"}],\"left\":[{\"id\":\"4461\"}],\"plot_height\":350,\"plot_width\":350,\"renderers\":[{\"id\":\"4482\"}],\"title\":{\"id\":\"4447\"},\"toolbar\":{\"id\":\"4472\"},\"toolbar_location\":null,\"x_range\":{\"id\":\"4449\"},\"x_scale\":{\"id\":\"4453\"},\"y_range\":{\"id\":\"4451\"},\"y_scale\":{\"id\":\"4455\"}},\"id\":\"4446\",\"subtype\":\"Figure\",\"type\":\"Plot\"},{\"attributes\":{},\"id\":\"4468\",\"type\":\"SaveTool\"},{\"attributes\":{},\"id\":\"4491\",\"type\":\"LinearScale\"},{\"attributes\":{},\"id\":\"4469\",\"type\":\"ResetTool\"},{\"attributes\":{\"text\":\"12-year Old\"},\"id\":\"4447\",\"type\":\"Title\"},{\"attributes\":{},\"id\":\"4493\",\"type\":\"LinearScale\"},{\"attributes\":{\"source\":{\"id\":\"4517\"}},\"id\":\"4521\",\"type\":\"CDSView\"},{\"attributes\":{},\"id\":\"4470\",\"type\":\"HelpTool\"},{\"attributes\":{\"fill_alpha\":{\"value\":0.1},\"fill_color\":{\"value\":\"#1f77b4\"},\"line_alpha\":{\"value\":0.1},\"line_color\":{\"value\":\"#1f77b4\"},\"top\":{\"field\":\"top\"},\"width\":{\"value\":0.9},\"x\":{\"field\":\"x\"}},\"id\":\"4519\",\"type\":\"VBar\"},{\"attributes\":{\"formatter\":{\"id\":\"4533\"},\"ticker\":{\"id\":\"4496\"}},\"id\":\"4495\",\"type\":\"LinearAxis\"},{\"attributes\":{},\"id\":\"4449\",\"type\":\"DataRange1d\"},{\"attributes\":{},\"id\":\"4524\",\"type\":\"BasicTickFormatter\"},{\"attributes\":{},\"id\":\"4496\",\"type\":\"BasicTicker\"},{\"attributes\":{\"active_drag\":\"auto\",\"active_inspect\":\"auto\",\"active_multi\":null,\"active_scroll\":\"auto\",\"active_tap\":\"auto\",\"tools\":[{\"id\":\"4465\"},{\"id\":\"4466\"},{\"id\":\"4467\"},{\"id\":\"4468\"},{\"id\":\"4469\"},{\"id\":\"4470\"}]},\"id\":\"4472\",\"type\":\"Toolbar\"},{\"attributes\":{\"end\":180,\"start\":120},\"id\":\"4451\",\"type\":\"Range1d\"},{\"attributes\":{\"axis\":{\"id\":\"4495\"},\"grid_line_color\":null,\"ticker\":null},\"id\":\"4498\",\"type\":\"Grid\"},{\"attributes\":{},\"id\":\"4526\",\"type\":\"BasicTickFormatter\"},{\"attributes\":{},\"id\":\"4453\",\"type\":\"LinearScale\"},{\"attributes\":{\"formatter\":{\"id\":\"4535\"},\"ticker\":{\"id\":\"4500\"}},\"id\":\"4499\",\"type\":\"LinearAxis\"},{\"attributes\":{},\"id\":\"4528\",\"type\":\"UnionRenderers\"},{\"attributes\":{},\"id\":\"4455\",\"type\":\"LinearScale\"},{\"attributes\":{},\"id\":\"4500\",\"type\":\"BasicTicker\"},{\"attributes\":{},\"id\":\"4529\",\"type\":\"Selection\"},{\"attributes\":{\"formatter\":{\"id\":\"4524\"},\"ticker\":{\"id\":\"4458\"}},\"id\":\"4457\",\"type\":\"LinearAxis\"},{\"attributes\":{\"axis\":{\"id\":\"4499\"},\"dimension\":1,\"ticker\":null},\"id\":\"4502\",\"type\":\"Grid\"},{\"attributes\":{},\"id\":\"4533\",\"type\":\"BasicTickFormatter\"},{\"attributes\":{},\"id\":\"4458\",\"type\":\"BasicTicker\"},{\"attributes\":{},\"id\":\"4535\",\"type\":\"BasicTickFormatter\"},{\"attributes\":{\"axis\":{\"id\":\"4457\"},\"grid_line_color\":null,\"ticker\":null},\"id\":\"4460\",\"type\":\"Grid\"},{\"attributes\":{\"fill_color\":{\"value\":\"#1f77b4\"},\"line_color\":{\"value\":\"#1f77b4\"},\"top\":{\"field\":\"top\"},\"width\":{\"value\":0.9},\"x\":{\"field\":\"x\"}},\"id\":\"4518\",\"type\":\"VBar\"},{\"attributes\":{\"bottom_units\":\"screen\",\"fill_alpha\":0.5,\"fill_color\":\"lightgrey\",\"left_units\":\"screen\",\"level\":\"overlay\",\"line_alpha\":1.0,\"line_color\":\"black\",\"line_dash\":[4,4],\"line_width\":2,\"right_units\":\"screen\",\"top_units\":\"screen\"},\"id\":\"4471\",\"type\":\"BoxAnnotation\"},{\"attributes\":{},\"id\":\"4537\",\"type\":\"UnionRenderers\"},{\"attributes\":{\"formatter\":{\"id\":\"4526\"},\"ticker\":{\"id\":\"4462\"}},\"id\":\"4461\",\"type\":\"LinearAxis\"},{\"attributes\":{\"data\":{\"top\":[152.6,160.8,161.3,162.3,163.3,163.3,163.4,163.6,164.0,164.4,164.5,164.6,165.0,166.3,168.4,168.5,168.7,168.9,169.5,169.6,169.9,172.8,173.6,177.6],\"x\":[0,1,2,3,4,5,6,7,8,9,10,11,12,13,14,15,16,17,18,19,20,21,22,23]},\"selected\":{\"id\":\"4538\"},\"selection_policy\":{\"id\":\"4537\"}},\"id\":\"4517\",\"type\":\"ColumnDataSource\"},{\"attributes\":{\"bottom_units\":\"screen\",\"fill_alpha\":0.5,\"fill_color\":\"lightgrey\",\"left_units\":\"screen\",\"level\":\"overlay\",\"line_alpha\":1.0,\"line_color\":\"black\",\"line_dash\":[4,4],\"line_width\":2,\"right_units\":\"screen\",\"top_units\":\"screen\"},\"id\":\"4509\",\"type\":\"BoxAnnotation\"},{\"attributes\":{},\"id\":\"4538\",\"type\":\"Selection\"},{\"attributes\":{},\"id\":\"4503\",\"type\":\"PanTool\"},{\"attributes\":{},\"id\":\"4462\",\"type\":\"BasicTicker\"},{\"attributes\":{\"toolbars\":[{\"id\":\"4472\"},{\"id\":\"4510\"}],\"tools\":[{\"id\":\"4465\"},{\"id\":\"4466\"},{\"id\":\"4467\"},{\"id\":\"4468\"},{\"id\":\"4469\"},{\"id\":\"4470\"},{\"id\":\"4503\"},{\"id\":\"4504\"},{\"id\":\"4505\"},{\"id\":\"4506\"},{\"id\":\"4507\"},{\"id\":\"4508\"}]},\"id\":\"4541\",\"type\":\"ProxyToolbar\"},{\"attributes\":{},\"id\":\"4504\",\"type\":\"WheelZoomTool\"},{\"attributes\":{\"fill_alpha\":{\"value\":0.1},\"fill_color\":{\"value\":\"#1f77b4\"},\"line_alpha\":{\"value\":0.1},\"line_color\":{\"value\":\"#1f77b4\"},\"top\":{\"field\":\"top\"},\"width\":{\"value\":0.9},\"x\":{\"field\":\"x\"}},\"id\":\"4481\",\"type\":\"VBar\"}],\"root_ids\":[\"4543\"]},\"title\":\"Bokeh Application\",\"version\":\"2.1.1\"}};\n",
       "  var render_items = [{\"docid\":\"ce4a8578-7e16-4ce0-bd6d-c86fcaf57b56\",\"root_ids\":[\"4543\"],\"roots\":{\"4543\":\"4d1cdd53-ee22-4b92-b616-b8e146e54b4f\"}}];\n",
       "  root.Bokeh.embed.embed_items_notebook(docs_json, render_items);\n",
       "\n",
       "  }\n",
       "  if (root.Bokeh !== undefined) {\n",
       "    embed_document(root);\n",
       "  } else {\n",
       "    var attempts = 0;\n",
       "    var timer = setInterval(function(root) {\n",
       "      if (root.Bokeh !== undefined) {\n",
       "        clearInterval(timer);\n",
       "        embed_document(root);\n",
       "      } else {\n",
       "        attempts++;\n",
       "        if (attempts > 100) {\n",
       "          clearInterval(timer);\n",
       "          console.log(\"Bokeh: ERROR: Unable to run BokehJS code because BokehJS library is missing\");\n",
       "        }\n",
       "      }\n",
       "    }, 10, root)\n",
       "  }\n",
       "})(window);"
      ],
      "application/vnd.bokehjs_exec.v0+json": ""
     },
     "metadata": {
      "application/vnd.bokehjs_exec.v0+json": {
       "id": "4543"
      }
     },
     "output_type": "display_data"
    }
   ],
   "source": [
    "\n",
    "P_BIRCH_A = make_bar(labels = [x for x in range(len(BIRCH_A))], nums = sorted(BIRCH_A), \n",
    "                title = '12-year Old', y_range = (120, 180))\n",
    "P_BIRCH_B = make_bar(labels = [x for x in range(len(BIRCH_B))], nums = sorted(BIRCH_B), \n",
    "                title = \"17-year Old\", y_range = (120, 180))\n",
    "\n",
    "grid_birch = gridplot([ P_BIRCH_A, P_BIRCH_B,], ncols = 2)\n",
    "print(np.mean(BIRCH_A))\n",
    "print(np.mean(BIRCH_B))\n",
    "show(grid_birch)"
   ]
  },
  {
   "cell_type": "markdown",
   "metadata": {},
   "source": [
    "We want to show that class B is greater than class A. Our null hypothesis is that Class B is *not* greater than class A. Le't resample."
   ]
  },
  {
   "cell_type": "code",
   "execution_count": 32,
   "metadata": {},
   "outputs": [
    {
     "data": {
      "text/html": [
       "\n",
       "\n",
       "\n",
       "\n",
       "\n",
       "\n",
       "  <div class=\"bk-root\" id=\"6820ef35-2313-41f3-95fc-63aa033f6975\" data-root-id=\"5141\"></div>\n"
      ]
     },
     "metadata": {},
     "output_type": "display_data"
    },
    {
     "data": {
      "application/javascript": [
       "(function(root) {\n",
       "  function embed_document(root) {\n",
       "    \n",
       "  var docs_json = {\"da6e9a3a-6fe3-47c3-ae7e-f12b10cbf933\":{\"roots\":{\"references\":[{\"attributes\":{\"below\":[{\"id\":\"5150\"}],\"center\":[{\"id\":\"5153\"},{\"id\":\"5157\"}],\"left\":[{\"id\":\"5154\"}],\"renderers\":[{\"id\":\"5175\"}],\"title\":{\"id\":\"5388\"},\"toolbar\":{\"id\":\"5165\"},\"x_range\":{\"id\":\"5142\"},\"x_scale\":{\"id\":\"5146\"},\"y_range\":{\"id\":\"5144\"},\"y_scale\":{\"id\":\"5148\"}},\"id\":\"5141\",\"subtype\":\"Figure\",\"type\":\"Plot\"},{\"attributes\":{\"axis\":{\"id\":\"5150\"},\"ticker\":null},\"id\":\"5153\",\"type\":\"Grid\"},{\"attributes\":{\"source\":{\"id\":\"5172\"}},\"id\":\"5176\",\"type\":\"CDSView\"},{\"attributes\":{},\"id\":\"5390\",\"type\":\"BasicTickFormatter\"},{\"attributes\":{},\"id\":\"5392\",\"type\":\"BasicTickFormatter\"},{\"attributes\":{},\"id\":\"5148\",\"type\":\"LinearScale\"},{\"attributes\":{},\"id\":\"5151\",\"type\":\"BasicTicker\"},{\"attributes\":{\"bottom\":{\"value\":0},\"fill_alpha\":{\"value\":0.4},\"fill_color\":{\"value\":\"#1f77b4\"},\"left\":{\"field\":\"left\"},\"line_alpha\":{\"value\":0.4},\"line_color\":{\"value\":\"#1f77b4\"},\"right\":{\"field\":\"right\"},\"top\":{\"field\":\"top\"}},\"id\":\"5173\",\"type\":\"Quad\"},{\"attributes\":{},\"id\":\"5394\",\"type\":\"UnionRenderers\"},{\"attributes\":{\"bottom_units\":\"screen\",\"fill_alpha\":0.5,\"fill_color\":\"lightgrey\",\"left_units\":\"screen\",\"level\":\"overlay\",\"line_alpha\":1.0,\"line_color\":\"black\",\"line_dash\":[4,4],\"line_width\":2,\"right_units\":\"screen\",\"top_units\":\"screen\"},\"id\":\"5164\",\"type\":\"BoxAnnotation\"},{\"attributes\":{},\"id\":\"5395\",\"type\":\"Selection\"},{\"attributes\":{\"data_source\":{\"id\":\"5172\"},\"glyph\":{\"id\":\"5173\"},\"hover_glyph\":null,\"muted_glyph\":null,\"nonselection_glyph\":{\"id\":\"5174\"},\"selection_glyph\":null,\"view\":{\"id\":\"5176\"}},\"id\":\"5175\",\"type\":\"GlyphRenderer\"},{\"attributes\":{\"overlay\":{\"id\":\"5164\"}},\"id\":\"5160\",\"type\":\"BoxZoomTool\"},{\"attributes\":{},\"id\":\"5155\",\"type\":\"BasicTicker\"},{\"attributes\":{\"axis\":{\"id\":\"5154\"},\"dimension\":1,\"ticker\":null},\"id\":\"5157\",\"type\":\"Grid\"},{\"attributes\":{\"text\":\"\"},\"id\":\"5388\",\"type\":\"Title\"},{\"attributes\":{\"formatter\":{\"id\":\"5392\"},\"ticker\":{\"id\":\"5155\"}},\"id\":\"5154\",\"type\":\"LinearAxis\"},{\"attributes\":{\"formatter\":{\"id\":\"5390\"},\"ticker\":{\"id\":\"5151\"}},\"id\":\"5150\",\"type\":\"LinearAxis\"},{\"attributes\":{},\"id\":\"5163\",\"type\":\"HelpTool\"},{\"attributes\":{},\"id\":\"5162\",\"type\":\"ResetTool\"},{\"attributes\":{},\"id\":\"5158\",\"type\":\"PanTool\"},{\"attributes\":{},\"id\":\"5144\",\"type\":\"DataRange1d\"},{\"attributes\":{\"bottom\":{\"value\":0},\"fill_alpha\":{\"value\":0.1},\"fill_color\":{\"value\":\"#1f77b4\"},\"left\":{\"field\":\"left\"},\"line_alpha\":{\"value\":0.1},\"line_color\":{\"value\":\"#1f77b4\"},\"right\":{\"field\":\"right\"},\"top\":{\"field\":\"top\"}},\"id\":\"5174\",\"type\":\"Quad\"},{\"attributes\":{},\"id\":\"5159\",\"type\":\"WheelZoomTool\"},{\"attributes\":{\"active_drag\":\"auto\",\"active_inspect\":\"auto\",\"active_multi\":null,\"active_scroll\":\"auto\",\"active_tap\":\"auto\",\"tools\":[{\"id\":\"5158\"},{\"id\":\"5159\"},{\"id\":\"5160\"},{\"id\":\"5161\"},{\"id\":\"5162\"},{\"id\":\"5163\"}]},\"id\":\"5165\",\"type\":\"Toolbar\"},{\"attributes\":{},\"id\":\"5146\",\"type\":\"LinearScale\"},{\"attributes\":{},\"id\":\"5161\",\"type\":\"SaveTool\"},{\"attributes\":{\"data\":{\"left\":{\"__ndarray__\":\"YKtjggdTJkAGcq+5kAQoQK04+/AZtilAU/9GKKNnK0D6xZJfLBktQKCM3pa1yi5AoykVZx8+MED2DLsC5BYxQErwYJ6o7zFAndMGOm3IMkA=\",\"dtype\":\"float64\",\"order\":\"little\",\"shape\":[10]},\"right\":{\"__ndarray__\":\"BnKvuZAEKECtOPvwGbYpQFP/RiijZytA+sWSXywZLUCgjN6WtcouQKMpFWcfPjBA9gy7AuQWMUBK8GCeqO8xQJ3TBjptyDJA8Las1TGhM0A=\",\"dtype\":\"float64\",\"order\":\"little\",\"shape\":[10]},\"top\":{\"__ndarray__\":\"CtO7MWpZgz/uhEZhW2WZPyYFZzc5cbI/XJhTKnBcyz/oRDZ2bN/MP6lYhOs87tA/o/ypNQ6MyT8hzdKhubi8P8Yg8FW9Nas/zccqvsQveD8=\",\"dtype\":\"float64\",\"order\":\"little\",\"shape\":[10]}},\"selected\":{\"id\":\"5395\"},\"selection_policy\":{\"id\":\"5394\"}},\"id\":\"5172\",\"type\":\"ColumnDataSource\"},{\"attributes\":{},\"id\":\"5142\",\"type\":\"DataRange1d\"}],\"root_ids\":[\"5141\"]},\"title\":\"Bokeh Application\",\"version\":\"2.1.1\"}};\n",
       "  var render_items = [{\"docid\":\"da6e9a3a-6fe3-47c3-ae7e-f12b10cbf933\",\"root_ids\":[\"5141\"],\"roots\":{\"5141\":\"6820ef35-2313-41f3-95fc-63aa033f6975\"}}];\n",
       "  root.Bokeh.embed.embed_items_notebook(docs_json, render_items);\n",
       "\n",
       "  }\n",
       "  if (root.Bokeh !== undefined) {\n",
       "    embed_document(root);\n",
       "  } else {\n",
       "    var attempts = 0;\n",
       "    var timer = setInterval(function(root) {\n",
       "      if (root.Bokeh !== undefined) {\n",
       "        clearInterval(timer);\n",
       "        embed_document(root);\n",
       "      } else {\n",
       "        attempts++;\n",
       "        if (attempts > 100) {\n",
       "          clearInterval(timer);\n",
       "          console.log(\"Bokeh: ERROR: Unable to run BokehJS code because BokehJS library is missing\");\n",
       "        }\n",
       "      }\n",
       "    }, 10, root)\n",
       "  }\n",
       "})(window);"
      ],
      "application/vnd.bokehjs_exec.v0+json": ""
     },
     "metadata": {
      "application/vnd.bokehjs_exec.v0+json": {
       "id": "5141"
      }
     },
     "output_type": "display_data"
    },
    {
     "name": "stdout",
     "output_type": "stream",
     "text": [
      "number geater than 0 is 1000\n"
     ]
    }
   ],
   "source": [
    "results_birch = repeat_resample(BIRCH_B, BIRCH_A)\n",
    "show(hist(results_birch))\n"
   ]
  },
  {
   "cell_type": "markdown",
   "metadata": {},
   "source": [
    "Look at the histogram, and note that the difference is 16cm. 0 does not appear at all. Let's find out the p value."
   ]
  },
  {
   "cell_type": "code",
   "execution_count": 34,
   "metadata": {},
   "outputs": [
    {
     "name": "stdout",
     "output_type": "stream",
     "text": [
      "number geater than 0 is 1000\n"
     ]
    }
   ],
   "source": [
    "show_diff(results_birch)"
   ]
  },
  {
   "cell_type": "markdown",
   "metadata": {},
   "source": [
    "In this case *all* of the samples were greater than 0. Our p value is 1 - 1000/1000 or 0. Remember, we don't use 0. Instead we say the p value < .01. \n",
    "\n",
    "Think about it this way. You say that class B is taller class A. Your friend doubts you and he conducts an experiment. He goes to the big city and finds 1,000 12-year and chooses 25. He find 1,000 17-year old and chooses 24. He finds the means of each group. He does this experiment 1,000 times. Each time the mean of the 17-year olds is greater than the class of 12-year olds--100% of the time! You say to your friend \"What is the probability that if the the two classrooms were the same, but there is less than 1% of that being true. That is too unlikey. I am rejecting your conclusion (the null hypothesis). "
   ]
  },
  {
   "cell_type": "markdown",
   "metadata": {},
   "source": [
    "## The P-value one last time\n",
    "\n",
    "Students and even some academics struggle with the p value. *The p value is the probability that the null hypothesis is true.*\n",
    "\n",
    "A real life example is the correlation between smoking and lung cancer. We can't prove smoking causes lung cancer. But we can form a null hypothesis that it does not and then conduct a bunch of experiments. This is what happened decades ago. After massive amounts of data, scientists concluded that it was too improbable that smoking did not cause lung cancer. Collectively, the p value was too small. The null hypothesis was rejected. "
   ]
  },
  {
   "cell_type": "markdown",
   "metadata": {},
   "source": [
    "## Summary\n",
    "\n",
    "* Differences between 2 or more groups is often random because we are taking a sample from the population.\n",
    "\n",
    "* Resampling is a way to determine if the differences are real, or just random\n",
    "\n",
    "* The null hypothesis is the original, convervative assumption. \n",
    "\n",
    "* We reject the null hypothesis if the p value is small. That means differences are not due to randomness. "
   ]
  },
  {
   "cell_type": "markdown",
   "metadata": {},
   "source": [
    "## Fixing our resamling function\n",
    "\n",
    "Finally, lets fix out resample function to make it more standard. Normally, we resample *with replacement*. That means we take a random item, put it back in, and then choose again. That means we might pick the same element again. That is ok for resampling. \n",
    "\n",
    "If you think about it, our original code does the same thing. We take a list and expand it: \n",
    "\n",
    "[1, 2, 3] => [1,2, 3, 1, 2 ,3, 1, 2, 3...]\n",
    "\n",
    "We then reshuffle it\n",
    "\n",
    "[2,3,3,1,2,1,3.....]\n",
    "\n",
    "And then take the first 3 elements:\n",
    "[2,3,3]\n",
    "\n",
    "You can see we have acually repeated the same elements. That is the desired result. It is the same as creating a huge population and choosing from it. \n",
    "\n",
    "The code below is our new resample function. "
   ]
  },
  {
   "cell_type": "code",
   "execution_count": 1,
   "metadata": {},
   "outputs": [],
   "source": [
    "def resample(l):\n",
    "    final = []\n",
    "    for i in range(len(l)):\n",
    "        final.append(random.choice(l))\n",
    "    return final"
   ]
  },
  {
   "cell_type": "code",
   "execution_count": 1,
   "metadata": {},
   "outputs": [
    {
     "data": {
      "text/plain": [
       "93.02857142857142"
      ]
     },
     "execution_count": 1,
     "metadata": {},
     "output_type": "execute_result"
    }
   ],
   "source": [
    "(82*2+99*2+95*1+96*2+93*2+91*3+99*1+86*1+96*2.5+95*1)/(2+2+1+2+2+3+1+1+2.5+1)"
   ]
  },
  {
   "cell_type": "code",
   "execution_count": null,
   "metadata": {},
   "outputs": [],
   "source": []
  }
 ],
 "metadata": {
  "kernelspec": {
   "display_name": "py3",
   "language": "python",
   "name": "py3"
  },
  "language_info": {
   "codemirror_mode": {
    "name": "ipython",
    "version": 3
   },
   "file_extension": ".py",
   "mimetype": "text/x-python",
   "name": "python",
   "nbconvert_exporter": "python",
   "pygments_lexer": "ipython3",
   "version": "3.7.3"
  }
 },
 "nbformat": 4,
 "nbformat_minor": 4
}
